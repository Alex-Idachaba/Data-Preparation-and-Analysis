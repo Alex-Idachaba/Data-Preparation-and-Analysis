{
 "cells": [
  {
   "cell_type": "markdown",
   "metadata": {},
   "source": [
    "## Data Analysis Question: What customers complaints might be hurting the company and what's the size of these complaints?"
   ]
  },
  {
   "cell_type": "markdown",
   "metadata": {},
   "source": [
    "Data Source: data.gov\n",
    "\n",
    "Data Analyst: Alex Idachaba"
   ]
  },
  {
   "cell_type": "code",
   "execution_count": 101,
   "metadata": {},
   "outputs": [],
   "source": [
    "import pandas as pd\n",
    "import numpy as np\n",
    "import matplotlib.pyplot as plt\n",
    "from scipy import stats\n",
    "import datetime"
   ]
  },
  {
   "cell_type": "code",
   "execution_count": 102,
   "metadata": {},
   "outputs": [
    {
     "data": {
      "text/html": [
       "<div>\n",
       "<style scoped>\n",
       "    .dataframe tbody tr th:only-of-type {\n",
       "        vertical-align: middle;\n",
       "    }\n",
       "\n",
       "    .dataframe tbody tr th {\n",
       "        vertical-align: top;\n",
       "    }\n",
       "\n",
       "    .dataframe thead th {\n",
       "        text-align: right;\n",
       "    }\n",
       "</style>\n",
       "<table border=\"1\" class=\"dataframe\">\n",
       "  <thead>\n",
       "    <tr style=\"text-align: right;\">\n",
       "      <th></th>\n",
       "      <th>Unnamed: 0</th>\n",
       "      <th>Complaint ID</th>\n",
       "      <th>Product</th>\n",
       "      <th>Sub-product</th>\n",
       "      <th>Issue</th>\n",
       "      <th>Sub-issue</th>\n",
       "      <th>State</th>\n",
       "      <th>ZIP code</th>\n",
       "      <th>Date received</th>\n",
       "      <th>Date sent to company</th>\n",
       "      <th>Company</th>\n",
       "      <th>Company response</th>\n",
       "      <th>Timely response?</th>\n",
       "      <th>Consumer disputed?</th>\n",
       "    </tr>\n",
       "  </thead>\n",
       "  <tbody>\n",
       "    <tr>\n",
       "      <td>0</td>\n",
       "      <td>0</td>\n",
       "      <td>1291006</td>\n",
       "      <td>Debt collection</td>\n",
       "      <td>NaN</td>\n",
       "      <td>Communication tactics</td>\n",
       "      <td>Frequent or repeated calls</td>\n",
       "      <td>TX</td>\n",
       "      <td>76119.0</td>\n",
       "      <td>2015-03-19</td>\n",
       "      <td>2015-03-19</td>\n",
       "      <td>Premium Asset Services, LLC</td>\n",
       "      <td>In progress</td>\n",
       "      <td>Yes</td>\n",
       "      <td>NaN</td>\n",
       "    </tr>\n",
       "    <tr>\n",
       "      <td>1</td>\n",
       "      <td>1</td>\n",
       "      <td>1290580</td>\n",
       "      <td>Debt collection</td>\n",
       "      <td>Medical</td>\n",
       "      <td>Cont'd attempts collect debt not owed</td>\n",
       "      <td>Debt is not mine</td>\n",
       "      <td>TX</td>\n",
       "      <td>77479.0</td>\n",
       "      <td>2015-03-19</td>\n",
       "      <td>2015-03-19</td>\n",
       "      <td>Accounts Receivable Consultants Inc.</td>\n",
       "      <td>Closed with explanation</td>\n",
       "      <td>Yes</td>\n",
       "      <td>NaN</td>\n",
       "    </tr>\n",
       "    <tr>\n",
       "      <td>2</td>\n",
       "      <td>2</td>\n",
       "      <td>1290564</td>\n",
       "      <td>Mortgage</td>\n",
       "      <td>FHA mortgage</td>\n",
       "      <td>Application, originator, mortgage broker</td>\n",
       "      <td>NaN</td>\n",
       "      <td>MA</td>\n",
       "      <td>2127.0</td>\n",
       "      <td>2015-03-19</td>\n",
       "      <td>2015-03-19</td>\n",
       "      <td>RBS Citizens</td>\n",
       "      <td>Closed with explanation</td>\n",
       "      <td>Yes</td>\n",
       "      <td>Yes</td>\n",
       "    </tr>\n",
       "  </tbody>\n",
       "</table>\n",
       "</div>"
      ],
      "text/plain": [
       "   Unnamed: 0  Complaint ID          Product   Sub-product  \\\n",
       "0           0       1291006  Debt collection           NaN   \n",
       "1           1       1290580  Debt collection       Medical   \n",
       "2           2       1290564         Mortgage  FHA mortgage   \n",
       "\n",
       "                                      Issue                   Sub-issue State  \\\n",
       "0                     Communication tactics  Frequent or repeated calls    TX   \n",
       "1     Cont'd attempts collect debt not owed            Debt is not mine    TX   \n",
       "2  Application, originator, mortgage broker                         NaN    MA   \n",
       "\n",
       "   ZIP code Date received Date sent to company  \\\n",
       "0   76119.0    2015-03-19           2015-03-19   \n",
       "1   77479.0    2015-03-19           2015-03-19   \n",
       "2    2127.0    2015-03-19           2015-03-19   \n",
       "\n",
       "                                Company         Company response  \\\n",
       "0           Premium Asset Services, LLC              In progress   \n",
       "1  Accounts Receivable Consultants Inc.  Closed with explanation   \n",
       "2                          RBS Citizens  Closed with explanation   \n",
       "\n",
       "  Timely response? Consumer disputed?  \n",
       "0              Yes                NaN  \n",
       "1              Yes                NaN  \n",
       "2              Yes                Yes  "
      ]
     },
     "execution_count": 102,
     "metadata": {},
     "output_type": "execute_result"
    }
   ],
   "source": [
    "# Load data\n",
    "complaints = pd.read_csv('consumer_complaints.csv')\n",
    "complaints.head(3)"
   ]
  },
  {
   "cell_type": "code",
   "execution_count": 103,
   "metadata": {},
   "outputs": [
    {
     "name": "stdout",
     "output_type": "stream",
     "text": [
      "<class 'pandas.core.frame.DataFrame'>\n",
      "RangeIndex: 28156 entries, 0 to 28155\n",
      "Data columns (total 14 columns):\n",
      "Unnamed: 0              28156 non-null int64\n",
      "Complaint ID            28156 non-null int64\n",
      "Product                 28156 non-null object\n",
      "Sub-product             17582 non-null object\n",
      "Issue                   28154 non-null object\n",
      "Sub-issue               13211 non-null object\n",
      "State                   27735 non-null object\n",
      "ZIP code                27876 non-null float64\n",
      "Date received           28156 non-null object\n",
      "Date sent to company    28156 non-null object\n",
      "Company                 28156 non-null object\n",
      "Company response        28156 non-null object\n",
      "Timely response?        28156 non-null object\n",
      "Consumer disputed?      6006 non-null object\n",
      "dtypes: float64(1), int64(2), object(11)\n",
      "memory usage: 3.0+ MB\n"
     ]
    }
   ],
   "source": [
    "# Lets look at the data summary info\n",
    "complaints.info()"
   ]
  },
  {
   "cell_type": "code",
   "execution_count": 104,
   "metadata": {},
   "outputs": [
    {
     "data": {
      "text/html": [
       "<div>\n",
       "<style scoped>\n",
       "    .dataframe tbody tr th:only-of-type {\n",
       "        vertical-align: middle;\n",
       "    }\n",
       "\n",
       "    .dataframe tbody tr th {\n",
       "        vertical-align: top;\n",
       "    }\n",
       "\n",
       "    .dataframe thead th {\n",
       "        text-align: right;\n",
       "    }\n",
       "</style>\n",
       "<table border=\"1\" class=\"dataframe\">\n",
       "  <thead>\n",
       "    <tr style=\"text-align: right;\">\n",
       "      <th></th>\n",
       "      <th>Unnamed: 0</th>\n",
       "      <th>Complaint ID</th>\n",
       "      <th>Product</th>\n",
       "      <th>Sub-product</th>\n",
       "      <th>Issue</th>\n",
       "      <th>Sub-issue</th>\n",
       "      <th>State</th>\n",
       "      <th>ZIP code</th>\n",
       "      <th>Date received</th>\n",
       "      <th>Date sent to company</th>\n",
       "      <th>Company</th>\n",
       "      <th>Company response</th>\n",
       "      <th>Timely response?</th>\n",
       "      <th>Consumer disputed?</th>\n",
       "    </tr>\n",
       "  </thead>\n",
       "  <tbody>\n",
       "    <tr>\n",
       "      <td>73</td>\n",
       "      <td>73</td>\n",
       "      <td>1287644</td>\n",
       "      <td>Mortgage</td>\n",
       "      <td>Conventional adjustable mortgage (ARM)</td>\n",
       "      <td>Loan modification,collection,foreclosure</td>\n",
       "      <td>NaN</td>\n",
       "      <td>CO</td>\n",
       "      <td>80516.0</td>\n",
       "      <td>2015-03-16</td>\n",
       "      <td>2015-03-17</td>\n",
       "      <td>Bank of America</td>\n",
       "      <td>In progress</td>\n",
       "      <td>Yes</td>\n",
       "      <td>NaN</td>\n",
       "    </tr>\n",
       "    <tr>\n",
       "      <td>81</td>\n",
       "      <td>81</td>\n",
       "      <td>1283979</td>\n",
       "      <td>Mortgage</td>\n",
       "      <td>FHA mortgage</td>\n",
       "      <td>Loan modification,collection,foreclosure</td>\n",
       "      <td>NaN</td>\n",
       "      <td>OH</td>\n",
       "      <td>43204.0</td>\n",
       "      <td>2015-03-16</td>\n",
       "      <td>2015-03-16</td>\n",
       "      <td>Bank of America</td>\n",
       "      <td>In progress</td>\n",
       "      <td>Yes</td>\n",
       "      <td>NaN</td>\n",
       "    </tr>\n",
       "    <tr>\n",
       "      <td>637</td>\n",
       "      <td>637</td>\n",
       "      <td>1275316</td>\n",
       "      <td>Mortgage</td>\n",
       "      <td>Other mortgage</td>\n",
       "      <td>Loan servicing, payments, escrow account</td>\n",
       "      <td>NaN</td>\n",
       "      <td>CA</td>\n",
       "      <td>91325.0</td>\n",
       "      <td>2015-03-10</td>\n",
       "      <td>2015-03-10</td>\n",
       "      <td>Bank of America</td>\n",
       "      <td>Closed with explanation</td>\n",
       "      <td>Yes</td>\n",
       "      <td>NaN</td>\n",
       "    </tr>\n",
       "  </tbody>\n",
       "</table>\n",
       "</div>"
      ],
      "text/plain": [
       "     Unnamed: 0  Complaint ID   Product  \\\n",
       "73           73       1287644  Mortgage   \n",
       "81           81       1283979  Mortgage   \n",
       "637         637       1275316  Mortgage   \n",
       "\n",
       "                                Sub-product  \\\n",
       "73   Conventional adjustable mortgage (ARM)   \n",
       "81                             FHA mortgage   \n",
       "637                          Other mortgage   \n",
       "\n",
       "                                        Issue Sub-issue State  ZIP code  \\\n",
       "73   Loan modification,collection,foreclosure       NaN    CO   80516.0   \n",
       "81   Loan modification,collection,foreclosure       NaN    OH   43204.0   \n",
       "637  Loan servicing, payments, escrow account       NaN    CA   91325.0   \n",
       "\n",
       "    Date received Date sent to company          Company  \\\n",
       "73     2015-03-16           2015-03-17  Bank of America   \n",
       "81     2015-03-16           2015-03-16  Bank of America   \n",
       "637    2015-03-10           2015-03-10  Bank of America   \n",
       "\n",
       "            Company response Timely response? Consumer disputed?  \n",
       "73               In progress              Yes                NaN  \n",
       "81               In progress              Yes                NaN  \n",
       "637  Closed with explanation              Yes                NaN  "
      ]
     },
     "execution_count": 104,
     "metadata": {},
     "output_type": "execute_result"
    }
   ],
   "source": [
    "# Lets retrieve paypal holdings company data\n",
    "complaints = complaints[complaints['Company'] == 'Bank of America']\n",
    "complaints.head(3)"
   ]
  },
  {
   "cell_type": "code",
   "execution_count": 105,
   "metadata": {},
   "outputs": [
    {
     "data": {
      "text/plain": [
       "False"
      ]
     },
     "execution_count": 105,
     "metadata": {},
     "output_type": "execute_result"
    }
   ],
   "source": [
    "# Check for duplicate rows\n",
    "complaints.duplicated().any()"
   ]
  },
  {
   "cell_type": "code",
   "execution_count": 106,
   "metadata": {},
   "outputs": [],
   "source": [
    "# Check drop null values\n",
    "complaints.dropna(how='all', inplace=True)"
   ]
  },
  {
   "cell_type": "code",
   "execution_count": 107,
   "metadata": {},
   "outputs": [
    {
     "data": {
      "text/html": [
       "<div>\n",
       "<style scoped>\n",
       "    .dataframe tbody tr th:only-of-type {\n",
       "        vertical-align: middle;\n",
       "    }\n",
       "\n",
       "    .dataframe tbody tr th {\n",
       "        vertical-align: top;\n",
       "    }\n",
       "\n",
       "    .dataframe thead th {\n",
       "        text-align: right;\n",
       "    }\n",
       "</style>\n",
       "<table border=\"1\" class=\"dataframe\">\n",
       "  <thead>\n",
       "    <tr style=\"text-align: right;\">\n",
       "      <th></th>\n",
       "      <th>Unnamed: 0</th>\n",
       "      <th>Complaint ID</th>\n",
       "      <th>Product</th>\n",
       "      <th>Sub-product</th>\n",
       "      <th>Issue</th>\n",
       "      <th>Sub-issue</th>\n",
       "      <th>State</th>\n",
       "      <th>ZIP code</th>\n",
       "      <th>Date received</th>\n",
       "      <th>Date sent to company</th>\n",
       "      <th>Company</th>\n",
       "      <th>Company response</th>\n",
       "      <th>Timely response?</th>\n",
       "      <th>Consumer disputed?</th>\n",
       "    </tr>\n",
       "  </thead>\n",
       "  <tbody>\n",
       "    <tr>\n",
       "      <td>73</td>\n",
       "      <td>73</td>\n",
       "      <td>1287644</td>\n",
       "      <td>Mortgage</td>\n",
       "      <td>Conventional adjustable mortgage (ARM)</td>\n",
       "      <td>Loan modification,collection,foreclosure</td>\n",
       "      <td>None</td>\n",
       "      <td>CO</td>\n",
       "      <td>80516</td>\n",
       "      <td>2015-03-16</td>\n",
       "      <td>2015-03-17</td>\n",
       "      <td>Bank of America</td>\n",
       "      <td>In progress</td>\n",
       "      <td>Yes</td>\n",
       "      <td>None</td>\n",
       "    </tr>\n",
       "    <tr>\n",
       "      <td>81</td>\n",
       "      <td>81</td>\n",
       "      <td>1283979</td>\n",
       "      <td>Mortgage</td>\n",
       "      <td>FHA mortgage</td>\n",
       "      <td>Loan modification,collection,foreclosure</td>\n",
       "      <td>None</td>\n",
       "      <td>OH</td>\n",
       "      <td>43204</td>\n",
       "      <td>2015-03-16</td>\n",
       "      <td>2015-03-16</td>\n",
       "      <td>Bank of America</td>\n",
       "      <td>In progress</td>\n",
       "      <td>Yes</td>\n",
       "      <td>None</td>\n",
       "    </tr>\n",
       "  </tbody>\n",
       "</table>\n",
       "</div>"
      ],
      "text/plain": [
       "    Unnamed: 0  Complaint ID   Product  \\\n",
       "73          73       1287644  Mortgage   \n",
       "81          81       1283979  Mortgage   \n",
       "\n",
       "                               Sub-product  \\\n",
       "73  Conventional adjustable mortgage (ARM)   \n",
       "81                            FHA mortgage   \n",
       "\n",
       "                                       Issue Sub-issue State ZIP code  \\\n",
       "73  Loan modification,collection,foreclosure      None    CO    80516   \n",
       "81  Loan modification,collection,foreclosure      None    OH    43204   \n",
       "\n",
       "   Date received Date sent to company          Company Company response  \\\n",
       "73    2015-03-16           2015-03-17  Bank of America      In progress   \n",
       "81    2015-03-16           2015-03-16  Bank of America      In progress   \n",
       "\n",
       "   Timely response? Consumer disputed?  \n",
       "73              Yes               None  \n",
       "81              Yes               None  "
      ]
     },
     "execution_count": 107,
     "metadata": {},
     "output_type": "execute_result"
    }
   ],
   "source": [
    "# Fill 'None' for null values\n",
    "complaints.fillna(value='None', inplace=True)\n",
    "complaints.head(2)"
   ]
  },
  {
   "cell_type": "code",
   "execution_count": 108,
   "metadata": {},
   "outputs": [],
   "source": [
    "# Change date recieved to datetime\n",
    "complaints['Date received'] = pd.to_datetime(complaints['Date received'], yearfirst=True)"
   ]
  },
  {
   "cell_type": "code",
   "execution_count": 109,
   "metadata": {},
   "outputs": [
    {
     "data": {
      "text/html": [
       "<div>\n",
       "<style scoped>\n",
       "    .dataframe tbody tr th:only-of-type {\n",
       "        vertical-align: middle;\n",
       "    }\n",
       "\n",
       "    .dataframe tbody tr th {\n",
       "        vertical-align: top;\n",
       "    }\n",
       "\n",
       "    .dataframe thead th {\n",
       "        text-align: right;\n",
       "    }\n",
       "</style>\n",
       "<table border=\"1\" class=\"dataframe\">\n",
       "  <thead>\n",
       "    <tr style=\"text-align: right;\">\n",
       "      <th></th>\n",
       "      <th>Unnamed: 0</th>\n",
       "      <th>Complaint ID</th>\n",
       "      <th>Product</th>\n",
       "      <th>Sub-product</th>\n",
       "      <th>Issue</th>\n",
       "      <th>Sub-issue</th>\n",
       "      <th>State</th>\n",
       "      <th>ZIP code</th>\n",
       "      <th>Date received</th>\n",
       "      <th>Date sent to company</th>\n",
       "      <th>Company</th>\n",
       "      <th>Company response</th>\n",
       "      <th>Timely response?</th>\n",
       "      <th>Consumer disputed?</th>\n",
       "    </tr>\n",
       "  </thead>\n",
       "  <tbody>\n",
       "    <tr>\n",
       "      <td>28138</td>\n",
       "      <td>28138</td>\n",
       "      <td>1178167</td>\n",
       "      <td>Credit card</td>\n",
       "      <td>None</td>\n",
       "      <td>Billing disputes</td>\n",
       "      <td>None</td>\n",
       "      <td>NJ</td>\n",
       "      <td>7042</td>\n",
       "      <td>2015-01-01</td>\n",
       "      <td>2015-01-09</td>\n",
       "      <td>Bank of America</td>\n",
       "      <td>Closed with explanation</td>\n",
       "      <td>Yes</td>\n",
       "      <td>None</td>\n",
       "    </tr>\n",
       "    <tr>\n",
       "      <td>28136</td>\n",
       "      <td>28136</td>\n",
       "      <td>1179173</td>\n",
       "      <td>Credit card</td>\n",
       "      <td>None</td>\n",
       "      <td>Billing disputes</td>\n",
       "      <td>None</td>\n",
       "      <td>DC</td>\n",
       "      <td>20017</td>\n",
       "      <td>2015-01-01</td>\n",
       "      <td>2015-01-02</td>\n",
       "      <td>Bank of America</td>\n",
       "      <td>Closed with explanation</td>\n",
       "      <td>Yes</td>\n",
       "      <td>No</td>\n",
       "    </tr>\n",
       "    <tr>\n",
       "      <td>28040</td>\n",
       "      <td>28040</td>\n",
       "      <td>1177932</td>\n",
       "      <td>Credit card</td>\n",
       "      <td>None</td>\n",
       "      <td>Billing disputes</td>\n",
       "      <td>None</td>\n",
       "      <td>FL</td>\n",
       "      <td>33544</td>\n",
       "      <td>2015-01-01</td>\n",
       "      <td>2015-01-01</td>\n",
       "      <td>Bank of America</td>\n",
       "      <td>Closed with explanation</td>\n",
       "      <td>Yes</td>\n",
       "      <td>No</td>\n",
       "    </tr>\n",
       "  </tbody>\n",
       "</table>\n",
       "</div>"
      ],
      "text/plain": [
       "       Unnamed: 0  Complaint ID      Product Sub-product             Issue  \\\n",
       "28138       28138       1178167  Credit card        None  Billing disputes   \n",
       "28136       28136       1179173  Credit card        None  Billing disputes   \n",
       "28040       28040       1177932  Credit card        None  Billing disputes   \n",
       "\n",
       "      Sub-issue State ZIP code Date received Date sent to company  \\\n",
       "28138      None    NJ     7042    2015-01-01           2015-01-09   \n",
       "28136      None    DC    20017    2015-01-01           2015-01-02   \n",
       "28040      None    FL    33544    2015-01-01           2015-01-01   \n",
       "\n",
       "               Company         Company response Timely response?  \\\n",
       "28138  Bank of America  Closed with explanation              Yes   \n",
       "28136  Bank of America  Closed with explanation              Yes   \n",
       "28040  Bank of America  Closed with explanation              Yes   \n",
       "\n",
       "      Consumer disputed?  \n",
       "28138               None  \n",
       "28136                 No  \n",
       "28040                 No  "
      ]
     },
     "execution_count": 109,
     "metadata": {},
     "output_type": "execute_result"
    }
   ],
   "source": [
    "# Sort by date recieved\n",
    "complaints.sort_values('Date received', ascending=True, inplace=True)\n",
    "complaints.head(3)"
   ]
  },
  {
   "cell_type": "code",
   "execution_count": 110,
   "metadata": {},
   "outputs": [],
   "source": [
    "# Reset index then drop 'index' column created after reset\n",
    "complaints = complaints.reset_index().drop(columns=['Unnamed: 0', 'index'])"
   ]
  },
  {
   "cell_type": "code",
   "execution_count": 111,
   "metadata": {},
   "outputs": [
    {
     "data": {
      "text/plain": [
       "array(['Closed with explanation', 'Closed with non-monetary relief',\n",
       "       'Closed with monetary relief', 'Closed', 'In progress'],\n",
       "      dtype=object)"
      ]
     },
     "execution_count": 111,
     "metadata": {},
     "output_type": "execute_result"
    }
   ],
   "source": [
    "# Create a new column 'Total Complaints' with 'Open' and 'Closed' as it's values.\n",
    "complaints['Company response'].unique()"
   ]
  },
  {
   "cell_type": "code",
   "execution_count": 112,
   "metadata": {},
   "outputs": [],
   "source": [
    "def totalComplaints(value):\n",
    "    if value == 'Closed with monetary relief':\n",
    "        return 'Closed'\n",
    "    if value == 'Closed with explanation':\n",
    "        return 'Closed'\n",
    "    if value == 'Closed with non-monetary relief':\n",
    "        return 'Closed'\n",
    "    if value == 'Closed':\n",
    "        return 'Closed'\n",
    "    if value == 'In progress':\n",
    "        return 'Open'"
   ]
  },
  {
   "cell_type": "code",
   "execution_count": 113,
   "metadata": {},
   "outputs": [
    {
     "data": {
      "text/html": [
       "<div>\n",
       "<style scoped>\n",
       "    .dataframe tbody tr th:only-of-type {\n",
       "        vertical-align: middle;\n",
       "    }\n",
       "\n",
       "    .dataframe tbody tr th {\n",
       "        vertical-align: top;\n",
       "    }\n",
       "\n",
       "    .dataframe thead th {\n",
       "        text-align: right;\n",
       "    }\n",
       "</style>\n",
       "<table border=\"1\" class=\"dataframe\">\n",
       "  <thead>\n",
       "    <tr style=\"text-align: right;\">\n",
       "      <th></th>\n",
       "      <th>Complaint ID</th>\n",
       "      <th>Product</th>\n",
       "      <th>Sub-product</th>\n",
       "      <th>Issue</th>\n",
       "      <th>Sub-issue</th>\n",
       "      <th>State</th>\n",
       "      <th>ZIP code</th>\n",
       "      <th>Date received</th>\n",
       "      <th>Date sent to company</th>\n",
       "      <th>Company</th>\n",
       "      <th>Company response</th>\n",
       "      <th>Timely response?</th>\n",
       "      <th>Consumer disputed?</th>\n",
       "      <th>Total Complaints</th>\n",
       "    </tr>\n",
       "  </thead>\n",
       "  <tbody>\n",
       "    <tr>\n",
       "      <td>0</td>\n",
       "      <td>1178167</td>\n",
       "      <td>Credit card</td>\n",
       "      <td>None</td>\n",
       "      <td>Billing disputes</td>\n",
       "      <td>None</td>\n",
       "      <td>NJ</td>\n",
       "      <td>7042</td>\n",
       "      <td>2015-01-01</td>\n",
       "      <td>2015-01-09</td>\n",
       "      <td>Bank of America</td>\n",
       "      <td>Closed with explanation</td>\n",
       "      <td>Yes</td>\n",
       "      <td>None</td>\n",
       "      <td>Closed</td>\n",
       "    </tr>\n",
       "    <tr>\n",
       "      <td>1</td>\n",
       "      <td>1179173</td>\n",
       "      <td>Credit card</td>\n",
       "      <td>None</td>\n",
       "      <td>Billing disputes</td>\n",
       "      <td>None</td>\n",
       "      <td>DC</td>\n",
       "      <td>20017</td>\n",
       "      <td>2015-01-01</td>\n",
       "      <td>2015-01-02</td>\n",
       "      <td>Bank of America</td>\n",
       "      <td>Closed with explanation</td>\n",
       "      <td>Yes</td>\n",
       "      <td>No</td>\n",
       "      <td>Closed</td>\n",
       "    </tr>\n",
       "    <tr>\n",
       "      <td>2</td>\n",
       "      <td>1177932</td>\n",
       "      <td>Credit card</td>\n",
       "      <td>None</td>\n",
       "      <td>Billing disputes</td>\n",
       "      <td>None</td>\n",
       "      <td>FL</td>\n",
       "      <td>33544</td>\n",
       "      <td>2015-01-01</td>\n",
       "      <td>2015-01-01</td>\n",
       "      <td>Bank of America</td>\n",
       "      <td>Closed with explanation</td>\n",
       "      <td>Yes</td>\n",
       "      <td>No</td>\n",
       "      <td>Closed</td>\n",
       "    </tr>\n",
       "  </tbody>\n",
       "</table>\n",
       "</div>"
      ],
      "text/plain": [
       "   Complaint ID      Product Sub-product             Issue Sub-issue State  \\\n",
       "0       1178167  Credit card        None  Billing disputes      None    NJ   \n",
       "1       1179173  Credit card        None  Billing disputes      None    DC   \n",
       "2       1177932  Credit card        None  Billing disputes      None    FL   \n",
       "\n",
       "  ZIP code Date received Date sent to company          Company  \\\n",
       "0     7042    2015-01-01           2015-01-09  Bank of America   \n",
       "1    20017    2015-01-01           2015-01-02  Bank of America   \n",
       "2    33544    2015-01-01           2015-01-01  Bank of America   \n",
       "\n",
       "          Company response Timely response? Consumer disputed?  \\\n",
       "0  Closed with explanation              Yes               None   \n",
       "1  Closed with explanation              Yes                 No   \n",
       "2  Closed with explanation              Yes                 No   \n",
       "\n",
       "  Total Complaints  \n",
       "0           Closed  \n",
       "1           Closed  \n",
       "2           Closed  "
      ]
     },
     "execution_count": 113,
     "metadata": {},
     "output_type": "execute_result"
    }
   ],
   "source": [
    "complaints['Total Complaints'] = complaints['Company response'].apply(totalComplaints)\n",
    "complaints.head(3)"
   ]
  },
  {
   "cell_type": "code",
   "execution_count": 114,
   "metadata": {},
   "outputs": [
    {
     "data": {
      "text/plain": [
       "1329"
      ]
     },
     "execution_count": 114,
     "metadata": {},
     "output_type": "execute_result"
    }
   ],
   "source": [
    "# Lets find out the total complaints status\n",
    "closed = complaints['Total Complaints'] == 'Closed'\n",
    "open_com = complaints['Total Complaints'] == 'Open'\n",
    "len(complaints[closed])"
   ]
  },
  {
   "cell_type": "code",
   "execution_count": 115,
   "metadata": {},
   "outputs": [
    {
     "data": {
      "text/plain": [
       "189"
      ]
     },
     "execution_count": 115,
     "metadata": {},
     "output_type": "execute_result"
    }
   ],
   "source": [
    "len(complaints[open_com])"
   ]
  },
  {
   "cell_type": "markdown",
   "metadata": {},
   "source": [
    "### The Bank of America resolved 1329 complaints and had 189 complaints in progress."
   ]
  },
  {
   "cell_type": "code",
   "execution_count": 116,
   "metadata": {},
   "outputs": [
    {
     "data": {
      "text/plain": [
       "Issue\n",
       "Loan modification,collection,foreclosure    424\n",
       "Loan servicing, payments, escrow account    203\n",
       "Account opening, closing, or management     181\n",
       "Deposits and withdrawals                    110\n",
       "Problems caused by my funds being low        52\n",
       "Billing disputes                             49\n",
       "Other                                        43\n",
       "Making/receiving payments, sending money     42\n",
       "Application, originator, mortgage broker     36\n",
       "Using a debit or ATM card                    35\n",
       "Settlement process and costs                 30\n",
       "Cont'd attempts collect debt not owed        27\n",
       "Closing/Cancelling account                   25\n",
       "Identity theft / Fraud / Embezzlement        25\n",
       "Credit decision / Underwriting               20\n",
       "Name: Total Complaints, dtype: int64"
      ]
     },
     "execution_count": 116,
     "metadata": {},
     "output_type": "execute_result"
    }
   ],
   "source": [
    "# Lets see the top 15 Complaints reasons\n",
    "reason = complaints.groupby(['Issue'])\n",
    "top_fifteen = reason['Total Complaints'].count().nlargest(15)\n",
    "top_fifteen"
   ]
  },
  {
   "cell_type": "markdown",
   "metadata": {},
   "source": [
    "Loan modification,collection,foreclosure is the number one issue of complaints by customers, with a toatal complaints of 424"
   ]
  },
  {
   "cell_type": "code",
   "execution_count": 117,
   "metadata": {},
   "outputs": [
    {
     "data": {
      "text/plain": [
       "State\n",
       "CA    259\n",
       "FL    197\n",
       "TX    103\n",
       "NY     97\n",
       "NJ     74\n",
       "GA     65\n",
       "PA     57\n",
       "MA     47\n",
       "MD     45\n",
       "VA     43\n",
       "IL     39\n",
       "NC     39\n",
       "AZ     38\n",
       "OH     32\n",
       "CT     28\n",
       "Name: Total Complaints, dtype: int64"
      ]
     },
     "execution_count": 117,
     "metadata": {},
     "output_type": "execute_result"
    }
   ],
   "source": [
    "# Lets see complaints by states\n",
    "state = complaints.groupby(['State'])\n",
    "state['Total Complaints'].count().nlargest(15)"
   ]
  },
  {
   "cell_type": "markdown",
   "metadata": {},
   "source": [
    "### California leads in the number of complaints with 259 complaints"
   ]
  },
  {
   "cell_type": "code",
   "execution_count": 118,
   "metadata": {},
   "outputs": [],
   "source": [
    "# Lets Groupby complaints by months (You can change the 'M' to 'Y' if you want the Year)\n",
    "period = complaints['Date received'].dt.to_period('M')\n",
    "year = complaints.groupby(period)"
   ]
  },
  {
   "cell_type": "code",
   "execution_count": 119,
   "metadata": {},
   "outputs": [
    {
     "data": {
      "text/plain": [
       "Date received\n",
       "2015-01    710\n",
       "2015-02    701\n",
       "2015-03    107\n",
       "Freq: M, Name: Total Complaints, dtype: int64"
      ]
     },
     "execution_count": 119,
     "metadata": {},
     "output_type": "execute_result"
    }
   ],
   "source": [
    "year['Total Complaints'].count()"
   ]
  },
  {
   "cell_type": "markdown",
   "metadata": {},
   "source": [
    "### The month of January 2015 has the highest number of customer complaints with 710 complaints"
   ]
  },
  {
   "cell_type": "code",
   "execution_count": 120,
   "metadata": {},
   "outputs": [],
   "source": [
    "# Save the new csv file\n",
    "complaints.to_csv('complaints_new.csv', encoding='utf-8', index=False)"
   ]
  },
  {
   "cell_type": "code",
   "execution_count": null,
   "metadata": {},
   "outputs": [],
   "source": []
  }
 ],
 "metadata": {
  "kernelspec": {
   "display_name": "Python 3",
   "language": "python",
   "name": "python3"
  },
  "language_info": {
   "codemirror_mode": {
    "name": "ipython",
    "version": 3
   },
   "file_extension": ".py",
   "mimetype": "text/x-python",
   "name": "python",
   "nbconvert_exporter": "python",
   "pygments_lexer": "ipython3",
   "version": "3.7.4"
  }
 },
 "nbformat": 4,
 "nbformat_minor": 2
}
