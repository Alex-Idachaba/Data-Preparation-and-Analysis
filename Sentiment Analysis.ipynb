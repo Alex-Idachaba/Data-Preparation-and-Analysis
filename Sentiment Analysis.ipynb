{
 "cells": [
  {
   "cell_type": "markdown",
   "metadata": {},
   "source": [
    "## Data Analysis Question: Which of the American Airlines is the least favourable among passengers."
   ]
  },
  {
   "cell_type": "markdown",
   "metadata": {},
   "source": [
    "Data Source: kaggle.com\n",
    "    \n",
    "Data Analyst: Alex Idachaba"
   ]
  },
  {
   "cell_type": "code",
   "execution_count": 59,
   "metadata": {},
   "outputs": [],
   "source": [
    "import pandas as pd\n",
    "import matplotlib.pyplot as plt\n",
    "import numpy as np\n",
    "import seaborn as sns\n",
    "from datetime import date"
   ]
  },
  {
   "cell_type": "code",
   "execution_count": 60,
   "metadata": {},
   "outputs": [
    {
     "data": {
      "text/html": [
       "<div>\n",
       "<style scoped>\n",
       "    .dataframe tbody tr th:only-of-type {\n",
       "        vertical-align: middle;\n",
       "    }\n",
       "\n",
       "    .dataframe tbody tr th {\n",
       "        vertical-align: top;\n",
       "    }\n",
       "\n",
       "    .dataframe thead th {\n",
       "        text-align: right;\n",
       "    }\n",
       "</style>\n",
       "<table border=\"1\" class=\"dataframe\">\n",
       "  <thead>\n",
       "    <tr style=\"text-align: right;\">\n",
       "      <th></th>\n",
       "      <th>tweet_id</th>\n",
       "      <th>airline_sentiment</th>\n",
       "      <th>airline_sentiment_confidence</th>\n",
       "      <th>negativereason</th>\n",
       "      <th>negativereason_confidence</th>\n",
       "      <th>airline</th>\n",
       "      <th>airline_sentiment_gold</th>\n",
       "      <th>name</th>\n",
       "      <th>negativereason_gold</th>\n",
       "      <th>retweet_count</th>\n",
       "      <th>text</th>\n",
       "      <th>tweet_coord</th>\n",
       "      <th>tweet_created</th>\n",
       "      <th>tweet_location</th>\n",
       "      <th>user_timezone</th>\n",
       "    </tr>\n",
       "  </thead>\n",
       "  <tbody>\n",
       "    <tr>\n",
       "      <td>0</td>\n",
       "      <td>5.703060e+17</td>\n",
       "      <td>neutral</td>\n",
       "      <td>1.0000</td>\n",
       "      <td>NaN</td>\n",
       "      <td>NaN</td>\n",
       "      <td>Virgin America</td>\n",
       "      <td>NaN</td>\n",
       "      <td>cairdin</td>\n",
       "      <td>NaN</td>\n",
       "      <td>0</td>\n",
       "      <td>@VirginAmerica What @dhepburn said.</td>\n",
       "      <td>NaN</td>\n",
       "      <td>24/02/2015 11:35</td>\n",
       "      <td>NaN</td>\n",
       "      <td>Eastern Time (US &amp; Canada)</td>\n",
       "    </tr>\n",
       "    <tr>\n",
       "      <td>1</td>\n",
       "      <td>5.703010e+17</td>\n",
       "      <td>positive</td>\n",
       "      <td>0.3486</td>\n",
       "      <td>NaN</td>\n",
       "      <td>0.0</td>\n",
       "      <td>Virgin America</td>\n",
       "      <td>NaN</td>\n",
       "      <td>jnardino</td>\n",
       "      <td>NaN</td>\n",
       "      <td>0</td>\n",
       "      <td>@VirginAmerica plus you've added commercials t...</td>\n",
       "      <td>NaN</td>\n",
       "      <td>24/02/2015 11:15</td>\n",
       "      <td>NaN</td>\n",
       "      <td>Pacific Time (US &amp; Canada)</td>\n",
       "    </tr>\n",
       "    <tr>\n",
       "      <td>2</td>\n",
       "      <td>5.703010e+17</td>\n",
       "      <td>neutral</td>\n",
       "      <td>0.6837</td>\n",
       "      <td>NaN</td>\n",
       "      <td>NaN</td>\n",
       "      <td>Virgin America</td>\n",
       "      <td>NaN</td>\n",
       "      <td>yvonnalynn</td>\n",
       "      <td>NaN</td>\n",
       "      <td>0</td>\n",
       "      <td>@VirginAmerica I didn't today... Must mean I n...</td>\n",
       "      <td>NaN</td>\n",
       "      <td>24/02/2015 11:15</td>\n",
       "      <td>Lets Play</td>\n",
       "      <td>Central Time (US &amp; Canada)</td>\n",
       "    </tr>\n",
       "  </tbody>\n",
       "</table>\n",
       "</div>"
      ],
      "text/plain": [
       "       tweet_id airline_sentiment  airline_sentiment_confidence  \\\n",
       "0  5.703060e+17           neutral                        1.0000   \n",
       "1  5.703010e+17          positive                        0.3486   \n",
       "2  5.703010e+17           neutral                        0.6837   \n",
       "\n",
       "  negativereason  negativereason_confidence         airline  \\\n",
       "0            NaN                        NaN  Virgin America   \n",
       "1            NaN                        0.0  Virgin America   \n",
       "2            NaN                        NaN  Virgin America   \n",
       "\n",
       "  airline_sentiment_gold        name negativereason_gold  retweet_count  \\\n",
       "0                    NaN     cairdin                 NaN              0   \n",
       "1                    NaN    jnardino                 NaN              0   \n",
       "2                    NaN  yvonnalynn                 NaN              0   \n",
       "\n",
       "                                                text tweet_coord  \\\n",
       "0                @VirginAmerica What @dhepburn said.         NaN   \n",
       "1  @VirginAmerica plus you've added commercials t...         NaN   \n",
       "2  @VirginAmerica I didn't today... Must mean I n...         NaN   \n",
       "\n",
       "      tweet_created tweet_location               user_timezone  \n",
       "0  24/02/2015 11:35            NaN  Eastern Time (US & Canada)  \n",
       "1  24/02/2015 11:15            NaN  Pacific Time (US & Canada)  \n",
       "2  24/02/2015 11:15      Lets Play  Central Time (US & Canada)  "
      ]
     },
     "execution_count": 60,
     "metadata": {},
     "output_type": "execute_result"
    }
   ],
   "source": [
    "# Load dataset\n",
    "sentiments = pd.read_csv('Tweets.csv')\n",
    "sentiments.head(3)"
   ]
  },
  {
   "cell_type": "code",
   "execution_count": 61,
   "metadata": {},
   "outputs": [
    {
     "name": "stdout",
     "output_type": "stream",
     "text": [
      "<class 'pandas.core.frame.DataFrame'>\n",
      "RangeIndex: 14640 entries, 0 to 14639\n",
      "Data columns (total 15 columns):\n",
      "tweet_id                        14640 non-null float64\n",
      "airline_sentiment               14640 non-null object\n",
      "airline_sentiment_confidence    14640 non-null float64\n",
      "negativereason                  9178 non-null object\n",
      "negativereason_confidence       10522 non-null float64\n",
      "airline                         14640 non-null object\n",
      "airline_sentiment_gold          40 non-null object\n",
      "name                            14640 non-null object\n",
      "negativereason_gold             32 non-null object\n",
      "retweet_count                   14640 non-null int64\n",
      "text                            14640 non-null object\n",
      "tweet_coord                     1019 non-null object\n",
      "tweet_created                   14640 non-null object\n",
      "tweet_location                  9907 non-null object\n",
      "user_timezone                   9820 non-null object\n",
      "dtypes: float64(3), int64(1), object(11)\n",
      "memory usage: 1.7+ MB\n"
     ]
    }
   ],
   "source": [
    "# Look at general info\n",
    "sentiments.info()"
   ]
  },
  {
   "cell_type": "code",
   "execution_count": 62,
   "metadata": {},
   "outputs": [
    {
     "data": {
      "text/plain": [
       "True"
      ]
     },
     "execution_count": 62,
     "metadata": {},
     "output_type": "execute_result"
    }
   ],
   "source": [
    "# Check for duplicate rows\n",
    "sentiments.duplicated().any()"
   ]
  },
  {
   "cell_type": "code",
   "execution_count": 63,
   "metadata": {},
   "outputs": [],
   "source": [
    "# Drop duplicate rows\n",
    "sentiments.drop_duplicates(inplace=True)"
   ]
  },
  {
   "cell_type": "code",
   "execution_count": 64,
   "metadata": {},
   "outputs": [
    {
     "data": {
      "text/plain": [
       "Index(['tweet_id', 'airline_sentiment', 'airline_sentiment_confidence',\n",
       "       'negativereason', 'negativereason_confidence', 'airline',\n",
       "       'airline_sentiment_gold', 'name', 'negativereason_gold',\n",
       "       'retweet_count', 'text', 'tweet_coord', 'tweet_created',\n",
       "       'tweet_location', 'user_timezone'],\n",
       "      dtype='object')"
      ]
     },
     "execution_count": 64,
     "metadata": {},
     "output_type": "execute_result"
    }
   ],
   "source": [
    "# check column names\n",
    "sentiments.columns"
   ]
  },
  {
   "cell_type": "code",
   "execution_count": 65,
   "metadata": {},
   "outputs": [],
   "source": [
    "# Rename some columns\n",
    "sentiments.rename(columns={'negativereason':'negative_reason', 'tweet_created':'date_created'}, inplace=True)"
   ]
  },
  {
   "cell_type": "code",
   "execution_count": 66,
   "metadata": {},
   "outputs": [],
   "source": [
    "# Convert date to datetime\n",
    "sentiments['date_created'] = pd.to_datetime(sentiments['date_created'], yearfirst=True)"
   ]
  },
  {
   "cell_type": "code",
   "execution_count": 67,
   "metadata": {},
   "outputs": [
    {
     "data": {
      "text/html": [
       "<div>\n",
       "<style scoped>\n",
       "    .dataframe tbody tr th:only-of-type {\n",
       "        vertical-align: middle;\n",
       "    }\n",
       "\n",
       "    .dataframe tbody tr th {\n",
       "        vertical-align: top;\n",
       "    }\n",
       "\n",
       "    .dataframe thead th {\n",
       "        text-align: right;\n",
       "    }\n",
       "</style>\n",
       "<table border=\"1\" class=\"dataframe\">\n",
       "  <thead>\n",
       "    <tr style=\"text-align: right;\">\n",
       "      <th></th>\n",
       "      <th>tweet_id</th>\n",
       "      <th>airline_sentiment</th>\n",
       "      <th>airline_sentiment_confidence</th>\n",
       "      <th>negative_reason</th>\n",
       "      <th>negativereason_confidence</th>\n",
       "      <th>airline</th>\n",
       "      <th>airline_sentiment_gold</th>\n",
       "      <th>name</th>\n",
       "      <th>negativereason_gold</th>\n",
       "      <th>retweet_count</th>\n",
       "      <th>text</th>\n",
       "      <th>tweet_coord</th>\n",
       "      <th>date_created</th>\n",
       "      <th>tweet_location</th>\n",
       "      <th>user_timezone</th>\n",
       "    </tr>\n",
       "  </thead>\n",
       "  <tbody>\n",
       "    <tr>\n",
       "      <td>320</td>\n",
       "      <td>5.686630e+17</td>\n",
       "      <td>negative</td>\n",
       "      <td>1.0000</td>\n",
       "      <td>Customer Service Issue</td>\n",
       "      <td>0.6596</td>\n",
       "      <td>Virgin America</td>\n",
       "      <td>NaN</td>\n",
       "      <td>davidhfe</td>\n",
       "      <td>NaN</td>\n",
       "      <td>0</td>\n",
       "      <td>@virginAmerica Other carriers are less than ha...</td>\n",
       "      <td>NaN</td>\n",
       "      <td>2015-02-19 22:47:00</td>\n",
       "      <td>San Francisco, CA</td>\n",
       "      <td>Pacific Time (US &amp; Canada)</td>\n",
       "    </tr>\n",
       "    <tr>\n",
       "      <td>321</td>\n",
       "      <td>5.686620e+17</td>\n",
       "      <td>negative</td>\n",
       "      <td>1.0000</td>\n",
       "      <td>Flight Booking Problems</td>\n",
       "      <td>0.6841</td>\n",
       "      <td>Virgin America</td>\n",
       "      <td>NaN</td>\n",
       "      <td>davidhfe</td>\n",
       "      <td>NaN</td>\n",
       "      <td>0</td>\n",
       "      <td>@VirginAmerica WTF is happening in PDX Late Fl...</td>\n",
       "      <td>NaN</td>\n",
       "      <td>2015-02-19 22:44:00</td>\n",
       "      <td>San Francisco, CA</td>\n",
       "      <td>Pacific Time (US &amp; Canada)</td>\n",
       "    </tr>\n",
       "    <tr>\n",
       "      <td>322</td>\n",
       "      <td>5.686460e+17</td>\n",
       "      <td>neutral</td>\n",
       "      <td>0.6667</td>\n",
       "      <td>NaN</td>\n",
       "      <td>NaN</td>\n",
       "      <td>Virgin America</td>\n",
       "      <td>NaN</td>\n",
       "      <td>chet</td>\n",
       "      <td>NaN</td>\n",
       "      <td>0</td>\n",
       "      <td>@VirginAmerica add DTW and I'm sold!</td>\n",
       "      <td>NaN</td>\n",
       "      <td>2015-02-19 21:39:00</td>\n",
       "      <td>NaN</td>\n",
       "      <td>Pacific Time (US &amp; Canada)</td>\n",
       "    </tr>\n",
       "  </tbody>\n",
       "</table>\n",
       "</div>"
      ],
      "text/plain": [
       "         tweet_id airline_sentiment  airline_sentiment_confidence  \\\n",
       "320  5.686630e+17          negative                        1.0000   \n",
       "321  5.686620e+17          negative                        1.0000   \n",
       "322  5.686460e+17           neutral                        0.6667   \n",
       "\n",
       "             negative_reason  negativereason_confidence         airline  \\\n",
       "320   Customer Service Issue                     0.6596  Virgin America   \n",
       "321  Flight Booking Problems                     0.6841  Virgin America   \n",
       "322                      NaN                        NaN  Virgin America   \n",
       "\n",
       "    airline_sentiment_gold      name negativereason_gold  retweet_count  \\\n",
       "320                    NaN  davidhfe                 NaN              0   \n",
       "321                    NaN  davidhfe                 NaN              0   \n",
       "322                    NaN      chet                 NaN              0   \n",
       "\n",
       "                                                  text tweet_coord  \\\n",
       "320  @virginAmerica Other carriers are less than ha...         NaN   \n",
       "321  @VirginAmerica WTF is happening in PDX Late Fl...         NaN   \n",
       "322               @VirginAmerica add DTW and I'm sold!         NaN   \n",
       "\n",
       "           date_created     tweet_location               user_timezone  \n",
       "320 2015-02-19 22:47:00  San Francisco, CA  Pacific Time (US & Canada)  \n",
       "321 2015-02-19 22:44:00  San Francisco, CA  Pacific Time (US & Canada)  \n",
       "322 2015-02-19 21:39:00                NaN  Pacific Time (US & Canada)  "
      ]
     },
     "execution_count": 67,
     "metadata": {},
     "output_type": "execute_result"
    }
   ],
   "source": [
    "# Lets get data for 19th Feb 2015\n",
    "start_date = pd.Timestamp(date(2015,2,19))\n",
    "end_date = pd.Timestamp(date(2015,2,20))\n",
    "sent_day = sentiments[(sentiments['date_created'] >= start_date) & (sentiments['date_created'] < end_date)]\n",
    "sent_day.head(3)"
   ]
  },
  {
   "cell_type": "code",
   "execution_count": 68,
   "metadata": {},
   "outputs": [],
   "source": [
    "# Filter airline sentiment by positive and negative\n",
    "mask = sent_day['airline_sentiment'].isin(['positive','negative'])\n",
    "sent_day = sent_day[mask]"
   ]
  },
  {
   "cell_type": "code",
   "execution_count": 69,
   "metadata": {},
   "outputs": [
    {
     "data": {
      "text/plain": [
       "airline         airline_sentiment\n",
       "American        positive               1\n",
       "Delta           negative             135\n",
       "                positive              78\n",
       "Southwest       negative             127\n",
       "                positive              96\n",
       "US Airways      negative             193\n",
       "                positive              32\n",
       "United          negative             272\n",
       "                positive              69\n",
       "Virgin America  negative              24\n",
       "                positive              20\n",
       "Name: airline_sentiment, dtype: int64"
      ]
     },
     "execution_count": 69,
     "metadata": {},
     "output_type": "execute_result"
    }
   ],
   "source": [
    "# Lets groupby airlines\n",
    "grp = sent_day.groupby(['airline', 'airline_sentiment'])['airline_sentiment'].count()\n",
    "grp"
   ]
  },
  {
   "cell_type": "markdown",
   "metadata": {},
   "source": [
    "### United Airline has the most Negative sentiments of 272 points."
   ]
  },
  {
   "cell_type": "code",
   "execution_count": 70,
   "metadata": {},
   "outputs": [
    {
     "data": {
      "text/plain": [
       "airline         negative_reason            \n",
       "United          Customer Service Issue         84\n",
       "                Late Flight                    71\n",
       "US Airways      Late Flight                    54\n",
       "                Customer Service Issue         50\n",
       "United          Can't Tell                     38\n",
       "Delta           Customer Service Issue         31\n",
       "Southwest       Late Flight                    30\n",
       "                Customer Service Issue         26\n",
       "                Can't Tell                     26\n",
       "Delta           Late Flight                    25\n",
       "US Airways      Can't Tell                     23\n",
       "Delta           Can't Tell                     20\n",
       "                Cancelled Flight               19\n",
       "US Airways      Bad Flight                     19\n",
       "                Flight Booking Problems        19\n",
       "Southwest       Bad Flight                     18\n",
       "United          Lost Luggage                   16\n",
       "                Cancelled Flight               14\n",
       "                Bad Flight                     14\n",
       "                Flight Booking Problems        13\n",
       "                Flight Attendant Complaints    13\n",
       "Delta           Lost Luggage                   11\n",
       "                Bad Flight                     11\n",
       "                Flight Booking Problems        10\n",
       "Southwest       Flight Booking Problems         9\n",
       "US Airways      Flight Attendant Complaints     8\n",
       "                Cancelled Flight                8\n",
       "Delta           Flight Attendant Complaints     8\n",
       "United          longlines                       8\n",
       "Virgin America  Customer Service Issue          8\n",
       "Southwest       Flight Attendant Complaints     6\n",
       "Virgin America  Flight Booking Problems         6\n",
       "US Airways      longlines                       6\n",
       "Southwest       Cancelled Flight                5\n",
       "US Airways      Damaged Luggage                 3\n",
       "Southwest       Lost Luggage                    3\n",
       "                longlines                       3\n",
       "US Airways      Lost Luggage                    3\n",
       "Virgin America  Bad Flight                      3\n",
       "                Can't Tell                      3\n",
       "                Late Flight                     2\n",
       "Southwest       Damaged Luggage                 1\n",
       "Virgin America  Lost Luggage                    1\n",
       "United          Damaged Luggage                 1\n",
       "Virgin America  longlines                       1\n",
       "Name: negative_reason, dtype: int64"
      ]
     },
     "execution_count": 70,
     "metadata": {},
     "output_type": "execute_result"
    }
   ],
   "source": [
    "# Lets see the most customer negative reason\n",
    "grp = sent_day.groupby(['airline', 'negative_reason'])['negative_reason'].count().sort_values(ascending=False)\n",
    "grp"
   ]
  },
  {
   "cell_type": "markdown",
   "metadata": {},
   "source": [
    "### United Airline leads with the top two negative reasons of:\n",
    "\n",
    "### 1. Customer Service Issue : 84\n",
    "\n",
    "### 2.  Late Flight : 71"
   ]
  },
  {
   "cell_type": "code",
   "execution_count": 71,
   "metadata": {},
   "outputs": [],
   "source": [
    "# Create 2 columns for both negative and positive ratings\n",
    "\n",
    "def positive(value):\n",
    "    if value == 'positive':\n",
    "        return 'positive'\n",
    "    \n",
    "\n",
    "def negative(value):\n",
    "    if value == 'negative':\n",
    "        return 'negative'"
   ]
  },
  {
   "cell_type": "code",
   "execution_count": 73,
   "metadata": {},
   "outputs": [],
   "source": [
    "sent_day['positive_sentiment'] = sent_day['airline_sentiment'].apply(positive)\n",
    "sent_day['negative_sentiment'] = sent_day['airline_sentiment'].apply(negative)"
   ]
  },
  {
   "cell_type": "code",
   "execution_count": 74,
   "metadata": {},
   "outputs": [],
   "source": [
    "# Export modified data\n",
    "sent_day.to_csv('Tweets_modified.csv', encoding='utf-8', index=False)"
   ]
  },
  {
   "cell_type": "code",
   "execution_count": null,
   "metadata": {},
   "outputs": [],
   "source": []
  }
 ],
 "metadata": {
  "kernelspec": {
   "display_name": "Python 3",
   "language": "python",
   "name": "python3"
  },
  "language_info": {
   "codemirror_mode": {
    "name": "ipython",
    "version": 3
   },
   "file_extension": ".py",
   "mimetype": "text/x-python",
   "name": "python",
   "nbconvert_exporter": "python",
   "pygments_lexer": "ipython3",
   "version": "3.7.4"
  }
 },
 "nbformat": 4,
 "nbformat_minor": 2
}
