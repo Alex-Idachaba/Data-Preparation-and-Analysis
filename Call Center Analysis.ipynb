{
 "cells": [
  {
   "cell_type": "markdown",
   "metadata": {},
   "source": [
    "## Data Analysis Question: Are there performance improvements at the call center by agents?"
   ]
  },
  {
   "cell_type": "markdown",
   "metadata": {},
   "source": [
    "Data Source: data.world\n",
    "    \n",
    "Data Analyst: Alex Idachaba"
   ]
  },
  {
   "cell_type": "code",
   "execution_count": 1,
   "metadata": {},
   "outputs": [],
   "source": [
    "import pandas as pd\n",
    "import numpy as np\n",
    "import matplotlib.pyplot as plt\n",
    "import seaborn as sns\n",
    "from scipy import stats\n",
    "from datetime import date"
   ]
  },
  {
   "cell_type": "code",
   "execution_count": 2,
   "metadata": {},
   "outputs": [
    {
     "data": {
      "text/html": [
       "<div>\n",
       "<style scoped>\n",
       "    .dataframe tbody tr th:only-of-type {\n",
       "        vertical-align: middle;\n",
       "    }\n",
       "\n",
       "    .dataframe tbody tr th {\n",
       "        vertical-align: top;\n",
       "    }\n",
       "\n",
       "    .dataframe thead th {\n",
       "        text-align: right;\n",
       "    }\n",
       "</style>\n",
       "<table border=\"1\" class=\"dataframe\">\n",
       "  <thead>\n",
       "    <tr style=\"text-align: right;\">\n",
       "      <th></th>\n",
       "      <th>YR_MO</th>\n",
       "      <th>CALL_DATE</th>\n",
       "      <th>AGENT_ID</th>\n",
       "      <th>AGENT_NAME</th>\n",
       "      <th>TEAM_LEAD_ID</th>\n",
       "      <th>TEAM_LEAD_NAME</th>\n",
       "      <th>CALL_CENTER</th>\n",
       "      <th>CALLS</th>\n",
       "      <th>HANDLE_TIME</th>\n",
       "      <th>CALL_REGEN</th>\n",
       "      <th>CALLS_WITH_OFFER</th>\n",
       "      <th>CALLS_WITH_ACCEPT</th>\n",
       "      <th>CALLS_OFFER_APPLIED</th>\n",
       "      <th>TRANSFERS</th>\n",
       "      <th>AHT_MULTI</th>\n",
       "      <th>CALL_REGEN_MULTI</th>\n",
       "      <th>TRANSFERS_MULTI</th>\n",
       "      <th>APPLIED_PER_CALL_MULTI</th>\n",
       "      <th>BREAKAGE_MULTI</th>\n",
       "    </tr>\n",
       "  </thead>\n",
       "  <tbody>\n",
       "    <tr>\n",
       "      <td>0</td>\n",
       "      <td>201706.0</td>\n",
       "      <td>01/06/2017</td>\n",
       "      <td>201700121.0</td>\n",
       "      <td>Anderson, Albert</td>\n",
       "      <td>201700011.0</td>\n",
       "      <td>Winnerson, Aceona</td>\n",
       "      <td>Williamburg</td>\n",
       "      <td>34.0</td>\n",
       "      <td>25710.0</td>\n",
       "      <td>5.0</td>\n",
       "      <td>31.0</td>\n",
       "      <td>22.0</td>\n",
       "      <td>19.0</td>\n",
       "      <td>2.0</td>\n",
       "      <td>26520.0</td>\n",
       "      <td>5.678</td>\n",
       "      <td>2.788</td>\n",
       "      <td>17.170</td>\n",
       "      <td>6.834</td>\n",
       "    </tr>\n",
       "    <tr>\n",
       "      <td>1</td>\n",
       "      <td>201706.0</td>\n",
       "      <td>01/06/2017</td>\n",
       "      <td>201700122.0</td>\n",
       "      <td>Binning, Bart</td>\n",
       "      <td>201700011.0</td>\n",
       "      <td>Winnerson, Aceona</td>\n",
       "      <td>Williamburg</td>\n",
       "      <td>35.0</td>\n",
       "      <td>25039.0</td>\n",
       "      <td>4.0</td>\n",
       "      <td>34.0</td>\n",
       "      <td>29.0</td>\n",
       "      <td>26.0</td>\n",
       "      <td>2.0</td>\n",
       "      <td>27300.0</td>\n",
       "      <td>5.845</td>\n",
       "      <td>2.870</td>\n",
       "      <td>17.675</td>\n",
       "      <td>7.035</td>\n",
       "    </tr>\n",
       "    <tr>\n",
       "      <td>2</td>\n",
       "      <td>201706.0</td>\n",
       "      <td>01/06/2017</td>\n",
       "      <td>201700123.0</td>\n",
       "      <td>Centerville, Cece</td>\n",
       "      <td>201700011.0</td>\n",
       "      <td>Winnerson, Aceona</td>\n",
       "      <td>Williamburg</td>\n",
       "      <td>38.0</td>\n",
       "      <td>24436.0</td>\n",
       "      <td>6.0</td>\n",
       "      <td>36.0</td>\n",
       "      <td>32.0</td>\n",
       "      <td>28.0</td>\n",
       "      <td>3.0</td>\n",
       "      <td>29640.0</td>\n",
       "      <td>6.346</td>\n",
       "      <td>3.116</td>\n",
       "      <td>19.190</td>\n",
       "      <td>7.638</td>\n",
       "    </tr>\n",
       "  </tbody>\n",
       "</table>\n",
       "</div>"
      ],
      "text/plain": [
       "      YR_MO   CALL_DATE     AGENT_ID         AGENT_NAME  TEAM_LEAD_ID  \\\n",
       "0  201706.0  01/06/2017  201700121.0   Anderson, Albert   201700011.0   \n",
       "1  201706.0  01/06/2017  201700122.0      Binning, Bart   201700011.0   \n",
       "2  201706.0  01/06/2017  201700123.0  Centerville, Cece   201700011.0   \n",
       "\n",
       "      TEAM_LEAD_NAME  CALL_CENTER  CALLS  HANDLE_TIME  CALL_REGEN  \\\n",
       "0  Winnerson, Aceona  Williamburg   34.0      25710.0         5.0   \n",
       "1  Winnerson, Aceona  Williamburg   35.0      25039.0         4.0   \n",
       "2  Winnerson, Aceona  Williamburg   38.0      24436.0         6.0   \n",
       "\n",
       "   CALLS_WITH_OFFER  CALLS_WITH_ACCEPT  CALLS_OFFER_APPLIED  TRANSFERS  \\\n",
       "0              31.0               22.0                 19.0        2.0   \n",
       "1              34.0               29.0                 26.0        2.0   \n",
       "2              36.0               32.0                 28.0        3.0   \n",
       "\n",
       "   AHT_MULTI  CALL_REGEN_MULTI  TRANSFERS_MULTI  APPLIED_PER_CALL_MULTI  \\\n",
       "0    26520.0             5.678            2.788                  17.170   \n",
       "1    27300.0             5.845            2.870                  17.675   \n",
       "2    29640.0             6.346            3.116                  19.190   \n",
       "\n",
       "   BREAKAGE_MULTI  \n",
       "0           6.834  \n",
       "1           7.035  \n",
       "2           7.638  "
      ]
     },
     "execution_count": 2,
     "metadata": {},
     "output_type": "execute_result"
    }
   ],
   "source": [
    "call_center = pd.read_csv('call_center.csv')\n",
    "call_center.head(3)"
   ]
  },
  {
   "cell_type": "code",
   "execution_count": 3,
   "metadata": {},
   "outputs": [
    {
     "name": "stdout",
     "output_type": "stream",
     "text": [
      "<class 'pandas.core.frame.DataFrame'>\n",
      "RangeIndex: 1529 entries, 0 to 1528\n",
      "Data columns (total 19 columns):\n",
      "YR_MO                     1525 non-null float64\n",
      "CALL_DATE                 1525 non-null object\n",
      "AGENT_ID                  1525 non-null float64\n",
      "AGENT_NAME                1525 non-null object\n",
      "TEAM_LEAD_ID              1525 non-null float64\n",
      "TEAM_LEAD_NAME            1525 non-null object\n",
      "CALL_CENTER               1526 non-null object\n",
      "CALLS                     1526 non-null float64\n",
      "HANDLE_TIME               1526 non-null float64\n",
      "CALL_REGEN                1525 non-null float64\n",
      "CALLS_WITH_OFFER          1525 non-null float64\n",
      "CALLS_WITH_ACCEPT         1525 non-null float64\n",
      "CALLS_OFFER_APPLIED       1525 non-null float64\n",
      "TRANSFERS                 1525 non-null float64\n",
      "AHT_MULTI                 1525 non-null float64\n",
      "CALL_REGEN_MULTI          1525 non-null float64\n",
      "TRANSFERS_MULTI           1525 non-null float64\n",
      "APPLIED_PER_CALL_MULTI    1525 non-null float64\n",
      "BREAKAGE_MULTI            1525 non-null float64\n",
      "dtypes: float64(15), object(4)\n",
      "memory usage: 227.1+ KB\n"
     ]
    }
   ],
   "source": [
    "# Check data info\n",
    "call_center.info()"
   ]
  },
  {
   "cell_type": "code",
   "execution_count": 4,
   "metadata": {},
   "outputs": [],
   "source": [
    "# Drop duplicate rows\n",
    "call_center = call_center.drop_duplicates()"
   ]
  },
  {
   "cell_type": "code",
   "execution_count": 5,
   "metadata": {},
   "outputs": [],
   "source": [
    "# Check for null values\n",
    "call_center.dropna(axis=0,how='all',inplace=True)"
   ]
  },
  {
   "cell_type": "code",
   "execution_count": 6,
   "metadata": {},
   "outputs": [],
   "source": [
    "# convert date coulmn to datetime\n",
    "call_center['CALL_DATE'] = pd.to_datetime(call_center['CALL_DATE'], yearfirst=True, format='%d/%m/%Y')"
   ]
  },
  {
   "cell_type": "code",
   "execution_count": 7,
   "metadata": {},
   "outputs": [
    {
     "data": {
      "text/html": [
       "<div>\n",
       "<style scoped>\n",
       "    .dataframe tbody tr th:only-of-type {\n",
       "        vertical-align: middle;\n",
       "    }\n",
       "\n",
       "    .dataframe tbody tr th {\n",
       "        vertical-align: top;\n",
       "    }\n",
       "\n",
       "    .dataframe thead th {\n",
       "        text-align: right;\n",
       "    }\n",
       "</style>\n",
       "<table border=\"1\" class=\"dataframe\">\n",
       "  <thead>\n",
       "    <tr style=\"text-align: right;\">\n",
       "      <th></th>\n",
       "      <th>YR_MO</th>\n",
       "      <th>CALL_DATE</th>\n",
       "      <th>AGENT_ID</th>\n",
       "      <th>AGENT_NAME</th>\n",
       "      <th>TEAM_LEAD_ID</th>\n",
       "      <th>TEAM_LEAD_NAME</th>\n",
       "      <th>CALL_CENTER</th>\n",
       "      <th>CALLS</th>\n",
       "      <th>HANDLE_TIME</th>\n",
       "      <th>CALL_REGEN</th>\n",
       "      <th>CALLS_WITH_OFFER</th>\n",
       "      <th>CALLS_WITH_ACCEPT</th>\n",
       "      <th>CALLS_OFFER_APPLIED</th>\n",
       "      <th>TRANSFERS</th>\n",
       "      <th>AHT_MULTI</th>\n",
       "      <th>CALL_REGEN_MULTI</th>\n",
       "      <th>TRANSFERS_MULTI</th>\n",
       "      <th>APPLIED_PER_CALL_MULTI</th>\n",
       "      <th>BREAKAGE_MULTI</th>\n",
       "      <th>AVG_HANDLE_TIME</th>\n",
       "    </tr>\n",
       "  </thead>\n",
       "  <tbody>\n",
       "    <tr>\n",
       "      <td>0</td>\n",
       "      <td>201706.0</td>\n",
       "      <td>2017-06-01</td>\n",
       "      <td>201700121.0</td>\n",
       "      <td>Anderson, Albert</td>\n",
       "      <td>201700011.0</td>\n",
       "      <td>Winnerson, Aceona</td>\n",
       "      <td>Williamburg</td>\n",
       "      <td>34.0</td>\n",
       "      <td>25710.0</td>\n",
       "      <td>5.0</td>\n",
       "      <td>31.0</td>\n",
       "      <td>22.0</td>\n",
       "      <td>19.0</td>\n",
       "      <td>2.0</td>\n",
       "      <td>26520.0</td>\n",
       "      <td>5.678</td>\n",
       "      <td>2.788</td>\n",
       "      <td>17.170</td>\n",
       "      <td>6.834</td>\n",
       "      <td>756.176471</td>\n",
       "    </tr>\n",
       "    <tr>\n",
       "      <td>1</td>\n",
       "      <td>201706.0</td>\n",
       "      <td>2017-06-01</td>\n",
       "      <td>201700122.0</td>\n",
       "      <td>Binning, Bart</td>\n",
       "      <td>201700011.0</td>\n",
       "      <td>Winnerson, Aceona</td>\n",
       "      <td>Williamburg</td>\n",
       "      <td>35.0</td>\n",
       "      <td>25039.0</td>\n",
       "      <td>4.0</td>\n",
       "      <td>34.0</td>\n",
       "      <td>29.0</td>\n",
       "      <td>26.0</td>\n",
       "      <td>2.0</td>\n",
       "      <td>27300.0</td>\n",
       "      <td>5.845</td>\n",
       "      <td>2.870</td>\n",
       "      <td>17.675</td>\n",
       "      <td>7.035</td>\n",
       "      <td>715.400000</td>\n",
       "    </tr>\n",
       "    <tr>\n",
       "      <td>2</td>\n",
       "      <td>201706.0</td>\n",
       "      <td>2017-06-01</td>\n",
       "      <td>201700123.0</td>\n",
       "      <td>Centerville, Cece</td>\n",
       "      <td>201700011.0</td>\n",
       "      <td>Winnerson, Aceona</td>\n",
       "      <td>Williamburg</td>\n",
       "      <td>38.0</td>\n",
       "      <td>24436.0</td>\n",
       "      <td>6.0</td>\n",
       "      <td>36.0</td>\n",
       "      <td>32.0</td>\n",
       "      <td>28.0</td>\n",
       "      <td>3.0</td>\n",
       "      <td>29640.0</td>\n",
       "      <td>6.346</td>\n",
       "      <td>3.116</td>\n",
       "      <td>19.190</td>\n",
       "      <td>7.638</td>\n",
       "      <td>643.052632</td>\n",
       "    </tr>\n",
       "  </tbody>\n",
       "</table>\n",
       "</div>"
      ],
      "text/plain": [
       "      YR_MO  CALL_DATE     AGENT_ID         AGENT_NAME  TEAM_LEAD_ID  \\\n",
       "0  201706.0 2017-06-01  201700121.0   Anderson, Albert   201700011.0   \n",
       "1  201706.0 2017-06-01  201700122.0      Binning, Bart   201700011.0   \n",
       "2  201706.0 2017-06-01  201700123.0  Centerville, Cece   201700011.0   \n",
       "\n",
       "      TEAM_LEAD_NAME  CALL_CENTER  CALLS  HANDLE_TIME  CALL_REGEN  \\\n",
       "0  Winnerson, Aceona  Williamburg   34.0      25710.0         5.0   \n",
       "1  Winnerson, Aceona  Williamburg   35.0      25039.0         4.0   \n",
       "2  Winnerson, Aceona  Williamburg   38.0      24436.0         6.0   \n",
       "\n",
       "   CALLS_WITH_OFFER  CALLS_WITH_ACCEPT  CALLS_OFFER_APPLIED  TRANSFERS  \\\n",
       "0              31.0               22.0                 19.0        2.0   \n",
       "1              34.0               29.0                 26.0        2.0   \n",
       "2              36.0               32.0                 28.0        3.0   \n",
       "\n",
       "   AHT_MULTI  CALL_REGEN_MULTI  TRANSFERS_MULTI  APPLIED_PER_CALL_MULTI  \\\n",
       "0    26520.0             5.678            2.788                  17.170   \n",
       "1    27300.0             5.845            2.870                  17.675   \n",
       "2    29640.0             6.346            3.116                  19.190   \n",
       "\n",
       "   BREAKAGE_MULTI  AVG_HANDLE_TIME  \n",
       "0           6.834       756.176471  \n",
       "1           7.035       715.400000  \n",
       "2           7.638       643.052632  "
      ]
     },
     "execution_count": 7,
     "metadata": {},
     "output_type": "execute_result"
    }
   ],
   "source": [
    "# Add a new column named 'Avg_Handle_Time'\n",
    "call_center['AVG_HANDLE_TIME'] = (call_center['HANDLE_TIME']/call_center['CALLS'])\n",
    "call_center.head(3)"
   ]
  },
  {
   "cell_type": "code",
   "execution_count": 8,
   "metadata": {},
   "outputs": [],
   "source": [
    "# Lets extract the data for the month of June\n",
    "call_center.sort_values('CALL_DATE', ascending=True, inplace=True)"
   ]
  },
  {
   "cell_type": "code",
   "execution_count": 9,
   "metadata": {},
   "outputs": [],
   "source": [
    "date_from = pd.Timestamp(date(2017,6,1))\n",
    "date_to = pd.Timestamp(date(2017,6,30))\n",
    "\n",
    "call_center = call_center[(call_center['CALL_DATE'] >= date_from) & (call_center['CALL_DATE'] <= date_to)]"
   ]
  },
  {
   "cell_type": "code",
   "execution_count": 10,
   "metadata": {},
   "outputs": [
    {
     "data": {
      "text/html": [
       "<div>\n",
       "<style scoped>\n",
       "    .dataframe tbody tr th:only-of-type {\n",
       "        vertical-align: middle;\n",
       "    }\n",
       "\n",
       "    .dataframe tbody tr th {\n",
       "        vertical-align: top;\n",
       "    }\n",
       "\n",
       "    .dataframe thead th {\n",
       "        text-align: right;\n",
       "    }\n",
       "</style>\n",
       "<table border=\"1\" class=\"dataframe\">\n",
       "  <thead>\n",
       "    <tr style=\"text-align: right;\">\n",
       "      <th></th>\n",
       "      <th>YR_MO</th>\n",
       "      <th>CALL_DATE</th>\n",
       "      <th>AGENT_ID</th>\n",
       "      <th>AGENT_NAME</th>\n",
       "      <th>TEAM_LEAD_ID</th>\n",
       "      <th>TEAM_LEAD_NAME</th>\n",
       "      <th>CALL_CENTER</th>\n",
       "      <th>CALLS</th>\n",
       "      <th>HANDLE_TIME</th>\n",
       "      <th>CALL_REGEN</th>\n",
       "      <th>CALLS_WITH_OFFER</th>\n",
       "      <th>CALLS_WITH_ACCEPT</th>\n",
       "      <th>CALLS_OFFER_APPLIED</th>\n",
       "      <th>TRANSFERS</th>\n",
       "      <th>AHT_MULTI</th>\n",
       "      <th>CALL_REGEN_MULTI</th>\n",
       "      <th>TRANSFERS_MULTI</th>\n",
       "      <th>APPLIED_PER_CALL_MULTI</th>\n",
       "      <th>BREAKAGE_MULTI</th>\n",
       "      <th>AVG_HANDLE_TIME</th>\n",
       "    </tr>\n",
       "  </thead>\n",
       "  <tbody>\n",
       "    <tr>\n",
       "      <td>0</td>\n",
       "      <td>201706.0</td>\n",
       "      <td>2017-06-01</td>\n",
       "      <td>201700121.0</td>\n",
       "      <td>Anderson, Albert</td>\n",
       "      <td>201700011.0</td>\n",
       "      <td>Winnerson, Aceona</td>\n",
       "      <td>Williamburg</td>\n",
       "      <td>34.0</td>\n",
       "      <td>25710.0</td>\n",
       "      <td>5.0</td>\n",
       "      <td>31.0</td>\n",
       "      <td>22.0</td>\n",
       "      <td>19.0</td>\n",
       "      <td>2.0</td>\n",
       "      <td>26520.0</td>\n",
       "      <td>5.678</td>\n",
       "      <td>2.788</td>\n",
       "      <td>17.17</td>\n",
       "      <td>6.834</td>\n",
       "      <td>756.176471</td>\n",
       "    </tr>\n",
       "    <tr>\n",
       "      <td>15</td>\n",
       "      <td>201706.0</td>\n",
       "      <td>2017-06-01</td>\n",
       "      <td>201700145.0</td>\n",
       "      <td>Abacus, Aaron</td>\n",
       "      <td>201700013.0</td>\n",
       "      <td>Oferten, Quinton</td>\n",
       "      <td>Williamburg</td>\n",
       "      <td>32.0</td>\n",
       "      <td>24876.0</td>\n",
       "      <td>9.0</td>\n",
       "      <td>29.0</td>\n",
       "      <td>18.0</td>\n",
       "      <td>7.0</td>\n",
       "      <td>4.0</td>\n",
       "      <td>24960.0</td>\n",
       "      <td>5.344</td>\n",
       "      <td>2.624</td>\n",
       "      <td>16.16</td>\n",
       "      <td>6.432</td>\n",
       "      <td>777.375000</td>\n",
       "    </tr>\n",
       "    <tr>\n",
       "      <td>14</td>\n",
       "      <td>201706.0</td>\n",
       "      <td>2017-06-01</td>\n",
       "      <td>201700144.0</td>\n",
       "      <td>Zwilowski, Zane</td>\n",
       "      <td>201700013.0</td>\n",
       "      <td>Oferten, Quinton</td>\n",
       "      <td>Williamburg</td>\n",
       "      <td>32.0</td>\n",
       "      <td>24700.0</td>\n",
       "      <td>9.0</td>\n",
       "      <td>28.0</td>\n",
       "      <td>22.0</td>\n",
       "      <td>9.0</td>\n",
       "      <td>4.0</td>\n",
       "      <td>24960.0</td>\n",
       "      <td>5.344</td>\n",
       "      <td>2.624</td>\n",
       "      <td>16.16</td>\n",
       "      <td>6.432</td>\n",
       "      <td>771.875000</td>\n",
       "    </tr>\n",
       "  </tbody>\n",
       "</table>\n",
       "</div>"
      ],
      "text/plain": [
       "       YR_MO  CALL_DATE     AGENT_ID        AGENT_NAME  TEAM_LEAD_ID  \\\n",
       "0   201706.0 2017-06-01  201700121.0  Anderson, Albert   201700011.0   \n",
       "15  201706.0 2017-06-01  201700145.0     Abacus, Aaron   201700013.0   \n",
       "14  201706.0 2017-06-01  201700144.0   Zwilowski, Zane   201700013.0   \n",
       "\n",
       "       TEAM_LEAD_NAME  CALL_CENTER  CALLS  HANDLE_TIME  CALL_REGEN  \\\n",
       "0   Winnerson, Aceona  Williamburg   34.0      25710.0         5.0   \n",
       "15   Oferten, Quinton  Williamburg   32.0      24876.0         9.0   \n",
       "14   Oferten, Quinton  Williamburg   32.0      24700.0         9.0   \n",
       "\n",
       "    CALLS_WITH_OFFER  CALLS_WITH_ACCEPT  CALLS_OFFER_APPLIED  TRANSFERS  \\\n",
       "0               31.0               22.0                 19.0        2.0   \n",
       "15              29.0               18.0                  7.0        4.0   \n",
       "14              28.0               22.0                  9.0        4.0   \n",
       "\n",
       "    AHT_MULTI  CALL_REGEN_MULTI  TRANSFERS_MULTI  APPLIED_PER_CALL_MULTI  \\\n",
       "0     26520.0             5.678            2.788                   17.17   \n",
       "15    24960.0             5.344            2.624                   16.16   \n",
       "14    24960.0             5.344            2.624                   16.16   \n",
       "\n",
       "    BREAKAGE_MULTI  AVG_HANDLE_TIME  \n",
       "0            6.834       756.176471  \n",
       "15           6.432       777.375000  \n",
       "14           6.432       771.875000  "
      ]
     },
     "execution_count": 10,
     "metadata": {},
     "output_type": "execute_result"
    }
   ],
   "source": [
    "call_center.head(3)"
   ]
  },
  {
   "cell_type": "code",
   "execution_count": 11,
   "metadata": {},
   "outputs": [
    {
     "data": {
      "text/plain": [
       "CALL_DATE\n",
       "2017-06-01    752.048929\n",
       "2017-06-02    732.319085\n",
       "2017-06-03    784.244498\n",
       "2017-06-04    679.288104\n",
       "2017-06-05    779.024896\n",
       "2017-06-06    760.924435\n",
       "2017-06-07    785.473540\n",
       "2017-06-08    773.199967\n",
       "2017-06-09    736.331764\n",
       "2017-06-10    788.476019\n",
       "2017-06-11    719.796304\n",
       "2017-06-12    765.451977\n",
       "2017-06-13    755.068571\n",
       "2017-06-14    776.621182\n",
       "Freq: D, Name: AVG_HANDLE_TIME, dtype: float64"
      ]
     },
     "execution_count": 11,
     "metadata": {},
     "output_type": "execute_result"
    }
   ],
   "source": [
    "# Lets select 14 days by dates range\n",
    "\n",
    "date_st = pd.Timestamp(date(2017,6,1))\n",
    "date_en = pd.Timestamp(date(2017,6,14))\n",
    "\n",
    "two_weeks = call_center[(call_center['CALL_DATE'] >= date_st) & (call_center['CALL_DATE'] <= date_en)]\n",
    "\n",
    "# Lets groupby 14 days\n",
    "period = two_weeks['CALL_DATE'].dt.to_period('D')\n",
    "week = two_weeks.groupby(period)\n",
    "week['AVG_HANDLE_TIME'].mean()"
   ]
  },
  {
   "cell_type": "code",
   "execution_count": 12,
   "metadata": {},
   "outputs": [],
   "source": [
    "x = ['1', '2', '3', '4', '5', '6', '7', '8', '9', '10', '11', '12', '13', '14']\n",
    "y = week['AVG_HANDLE_TIME'].mean()"
   ]
  },
  {
   "cell_type": "code",
   "execution_count": 13,
   "metadata": {},
   "outputs": [
    {
     "data": {
      "image/png": "[encoded data removed]",
      "text/plain": [
       "<Figure size 864x432 with 1 Axes>"
      ]
     },
     "metadata": {
      "needs_background": "light"
     },
     "output_type": "display_data"
    }
   ],
   "source": [
    "# plot two weeks average\n",
    "plt.figure(figsize=(12,6))\n",
    "plt.title('Average Handle Time')\n",
    "plt.plot(x, y)\n",
    "plt.xlabel('Days')\n",
    "plt.ylabel('Average')\n",
    "plt.show()"
   ]
  },
  {
   "cell_type": "code",
   "execution_count": 14,
   "metadata": {},
   "outputs": [],
   "source": [
    "y = week['CALLS'].sum()"
   ]
  },
  {
   "cell_type": "code",
   "execution_count": 15,
   "metadata": {},
   "outputs": [
    {
     "data": {
      "image/png": "[encoded data removed]",
      "text/plain": [
       "<Figure size 864x432 with 1 Axes>"
      ]
     },
     "metadata": {
      "needs_background": "light"
     },
     "output_type": "display_data"
    }
   ],
   "source": [
    "# Lets plot calls handled\n",
    "plt.figure(figsize=(12,6))\n",
    "plt.title('Calls Handles')\n",
    "plt.bar(x, y)\n",
    "plt.xlabel('Days')\n",
    "plt.ylabel('Calls')\n",
    "plt.show()"
   ]
  },
  {
   "cell_type": "code",
   "execution_count": 16,
   "metadata": {},
   "outputs": [],
   "source": [
    "y = y = week['TRANSFERS'].sum()"
   ]
  },
  {
   "cell_type": "code",
   "execution_count": 17,
   "metadata": {},
   "outputs": [
    {
     "data": {
      "image/png": "[encoded data removed]",
      "text/plain": [
       "<Figure size 864x432 with 1 Axes>"
      ]
     },
     "metadata": {
      "needs_background": "light"
     },
     "output_type": "display_data"
    }
   ],
   "source": [
    "# Lets plot Transfers\n",
    "plt.figure(figsize=(12,6))\n",
    "plt.title('Transfers')\n",
    "plt.plot(x, y)\n",
    "plt.xlabel('Days')\n",
    "plt.ylabel('Number of Transfers')\n",
    "plt.show()"
   ]
  },
  {
   "cell_type": "code",
   "execution_count": 18,
   "metadata": {},
   "outputs": [
    {
     "data": {
      "text/plain": [
       "AGENT_NAME\n",
       "Davenport, Davina    361.0\n",
       "Gee, Garry           361.0\n",
       "Anderson, Albert     360.0\n",
       "Binning, Bart        354.0\n",
       "Edgerton, Ethan      353.0\n",
       "Name: CALLS, dtype: float64"
      ]
     },
     "execution_count": 18,
     "metadata": {},
     "output_type": "execute_result"
    }
   ],
   "source": [
    "# Lets plot the top 5 agents within the two weeks\n",
    "agent = two_weeks.groupby('AGENT_NAME')\n",
    "agent['CALLS'].sum().nlargest(5)"
   ]
  },
  {
   "cell_type": "code",
   "execution_count": 19,
   "metadata": {},
   "outputs": [],
   "source": [
    "# Export modified data\n",
    "call_center.to_csv('call_center_modified.csv',encoding='utf-8', index=False)"
   ]
  },
  {
   "cell_type": "code",
   "execution_count": null,
   "metadata": {},
   "outputs": [],
   "source": []
  },
  {
   "cell_type": "code",
   "execution_count": null,
   "metadata": {},
   "outputs": [],
   "source": []
  },
  {
   "cell_type": "code",
   "execution_count": null,
   "metadata": {},
   "outputs": [],
   "source": []
  }
 ],
 "metadata": {
  "kernelspec": {
   "display_name": "Python 3",
   "language": "python",
   "name": "python3"
  },
  "language_info": {
   "codemirror_mode": {
    "name": "ipython",
    "version": 3
   },
   "file_extension": ".py",
   "mimetype": "text/x-python",
   "name": "python",
   "nbconvert_exporter": "python",
   "pygments_lexer": "ipython3",
   "version": "3.7.4"
  }
 },
 "nbformat": 4,
 "nbformat_minor": 2
}
