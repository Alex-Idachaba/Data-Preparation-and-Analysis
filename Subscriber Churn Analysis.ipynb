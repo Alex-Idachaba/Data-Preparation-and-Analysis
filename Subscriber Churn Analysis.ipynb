{
 "cells": [
  {
   "cell_type": "markdown",
   "metadata": {},
   "source": [
    "## Data Analysis Question: How are customers defecting?"
   ]
  },
  {
   "cell_type": "markdown",
   "metadata": {},
   "source": [
    "Data Source: kaggle.com\n",
    "\n",
    "Data Analyst: Alex Idachaba"
   ]
  },
  {
   "cell_type": "code",
   "execution_count": 366,
   "metadata": {},
   "outputs": [],
   "source": [
    "import pandas as pd\n",
    "import numpy as np\n",
    "import matplotlib.pyplot as plt\n",
    "from scipy import stats\n",
    "import datetime"
   ]
  },
  {
   "cell_type": "code",
   "execution_count": 367,
   "metadata": {},
   "outputs": [
    {
     "data": {
      "text/html": [
       "<div>\n",
       "<style scoped>\n",
       "    .dataframe tbody tr th:only-of-type {\n",
       "        vertical-align: middle;\n",
       "    }\n",
       "\n",
       "    .dataframe tbody tr th {\n",
       "        vertical-align: top;\n",
       "    }\n",
       "\n",
       "    .dataframe thead th {\n",
       "        text-align: right;\n",
       "    }\n",
       "</style>\n",
       "<table border=\"1\" class=\"dataframe\">\n",
       "  <thead>\n",
       "    <tr style=\"text-align: right;\">\n",
       "      <th></th>\n",
       "      <th>image</th>\n",
       "      <th>newacct_no</th>\n",
       "      <th>line_stat</th>\n",
       "      <th>bill_cycl</th>\n",
       "      <th>serv_type</th>\n",
       "      <th>serv_code</th>\n",
       "      <th>tenure</th>\n",
       "      <th>effc_strt_date</th>\n",
       "      <th>effc_end_date</th>\n",
       "      <th>contract_month</th>\n",
       "      <th>ce_expiry</th>\n",
       "      <th>secured_revenue</th>\n",
       "      <th>bandwidth</th>\n",
       "      <th>term_reas_code</th>\n",
       "      <th>term_reas_desc</th>\n",
       "      <th>complaint_cnt</th>\n",
       "      <th>with_phone_service</th>\n",
       "      <th>churn</th>\n",
       "      <th>current_mth_churn</th>\n",
       "      <th>Unnamed: 19</th>\n",
       "    </tr>\n",
       "  </thead>\n",
       "  <tbody>\n",
       "    <tr>\n",
       "      <td>0</td>\n",
       "      <td>201801</td>\n",
       "      <td>70068143.001.000000062</td>\n",
       "      <td>AC</td>\n",
       "      <td>1</td>\n",
       "      <td>BBS</td>\n",
       "      <td>VS100DUN</td>\n",
       "      <td>202</td>\n",
       "      <td>06.03.2018 00:00:00</td>\n",
       "      <td>05.03.2021 00:00:00</td>\n",
       "      <td>36.0</td>\n",
       "      <td>13.0</td>\n",
       "      <td>178.0</td>\n",
       "      <td>100M</td>\n",
       "      <td>NaN</td>\n",
       "      <td>NaN</td>\n",
       "      <td>0</td>\n",
       "      <td>N</td>\n",
       "      <td>N</td>\n",
       "      <td>N</td>\n",
       "      <td>NaN</td>\n",
       "    </tr>\n",
       "    <tr>\n",
       "      <td>1</td>\n",
       "      <td>201801</td>\n",
       "      <td>70068143.003.000072630</td>\n",
       "      <td>AC</td>\n",
       "      <td>1</td>\n",
       "      <td>BBS</td>\n",
       "      <td>VS030F6R</td>\n",
       "      <td>35</td>\n",
       "      <td>01.03.2019 00:00:00</td>\n",
       "      <td>28.02.2021 00:00:00</td>\n",
       "      <td>24.0</td>\n",
       "      <td>13.0</td>\n",
       "      <td>1572.0</td>\n",
       "      <td>30M</td>\n",
       "      <td>NaN</td>\n",
       "      <td>NaN</td>\n",
       "      <td>0</td>\n",
       "      <td>N</td>\n",
       "      <td>N</td>\n",
       "      <td>N</td>\n",
       "      <td>NaN</td>\n",
       "    </tr>\n",
       "    <tr>\n",
       "      <td>2</td>\n",
       "      <td>201801</td>\n",
       "      <td>70071840.001.000000066</td>\n",
       "      <td>AC</td>\n",
       "      <td>1</td>\n",
       "      <td>BBS</td>\n",
       "      <td>EAXMXMFSRN1</td>\n",
       "      <td>202</td>\n",
       "      <td>01.10.2019 00:00:00</td>\n",
       "      <td>30.09.2021 00:00:00</td>\n",
       "      <td>24.0</td>\n",
       "      <td>20.0</td>\n",
       "      <td>290.0</td>\n",
       "      <td>10M</td>\n",
       "      <td>NaN</td>\n",
       "      <td>NaN</td>\n",
       "      <td>0</td>\n",
       "      <td>Y</td>\n",
       "      <td>N</td>\n",
       "      <td>N</td>\n",
       "      <td>NaN</td>\n",
       "    </tr>\n",
       "  </tbody>\n",
       "</table>\n",
       "</div>"
      ],
      "text/plain": [
       "    image              newacct_no line_stat  bill_cycl serv_type    serv_code  \\\n",
       "0  201801  70068143.001.000000062        AC          1       BBS     VS100DUN   \n",
       "1  201801  70068143.003.000072630        AC          1       BBS     VS030F6R   \n",
       "2  201801  70071840.001.000000066        AC          1       BBS  EAXMXMFSRN1   \n",
       "\n",
       "   tenure       effc_strt_date        effc_end_date  contract_month  \\\n",
       "0     202  06.03.2018 00:00:00  05.03.2021 00:00:00            36.0   \n",
       "1      35  01.03.2019 00:00:00  28.02.2021 00:00:00            24.0   \n",
       "2     202  01.10.2019 00:00:00  30.09.2021 00:00:00            24.0   \n",
       "\n",
       "   ce_expiry  secured_revenue bandwidth term_reas_code term_reas_desc  \\\n",
       "0       13.0            178.0      100M            NaN            NaN   \n",
       "1       13.0           1572.0       30M            NaN            NaN   \n",
       "2       20.0            290.0       10M            NaN            NaN   \n",
       "\n",
       "  complaint_cnt with_phone_service churn current_mth_churn Unnamed: 19  \n",
       "0             0                  N     N                 N         NaN  \n",
       "1             0                  N     N                 N         NaN  \n",
       "2             0                  Y     N                 N         NaN  "
      ]
     },
     "execution_count": 367,
     "metadata": {},
     "output_type": "execute_result"
    }
   ],
   "source": [
    "# Load data\n",
    "churn = pd.read_csv('churn.csv')\n",
    "churn.head(3)"
   ]
  },
  {
   "cell_type": "code",
   "execution_count": 368,
   "metadata": {},
   "outputs": [
    {
     "name": "stdout",
     "output_type": "stream",
     "text": [
      "<class 'pandas.core.frame.DataFrame'>\n",
      "RangeIndex: 510125 entries, 0 to 510124\n",
      "Data columns (total 20 columns):\n",
      "image                 510125 non-null int64\n",
      "newacct_no            510125 non-null object\n",
      "line_stat             510125 non-null object\n",
      "bill_cycl             510125 non-null int64\n",
      "serv_type             510125 non-null object\n",
      "serv_code             510125 non-null object\n",
      "tenure                510125 non-null int64\n",
      "effc_strt_date        508188 non-null object\n",
      "effc_end_date         508188 non-null object\n",
      "contract_month        508188 non-null float64\n",
      "ce_expiry             508188 non-null float64\n",
      "secured_revenue       510125 non-null float64\n",
      "bandwidth             510125 non-null object\n",
      "term_reas_code        5523 non-null object\n",
      "term_reas_desc        5523 non-null object\n",
      "complaint_cnt         510125 non-null object\n",
      "with_phone_service    510125 non-null object\n",
      "churn                 510125 non-null object\n",
      "current_mth_churn     510125 non-null object\n",
      "Unnamed: 19           2 non-null object\n",
      "dtypes: float64(3), int64(3), object(14)\n",
      "memory usage: 77.8+ MB\n"
     ]
    }
   ],
   "source": [
    "# View the data\n",
    "churn.info()"
   ]
  },
  {
   "cell_type": "code",
   "execution_count": 369,
   "metadata": {},
   "outputs": [
    {
     "data": {
      "text/plain": [
       "False"
      ]
     },
     "execution_count": 369,
     "metadata": {},
     "output_type": "execute_result"
    }
   ],
   "source": [
    "# Check for duplicate rows\n",
    "churn.duplicated().any()"
   ]
  },
  {
   "cell_type": "code",
   "execution_count": 370,
   "metadata": {},
   "outputs": [],
   "source": [
    "# Check for empty/null rows\n",
    "churn.dropna(how='all', inplace=True)"
   ]
  },
  {
   "cell_type": "code",
   "execution_count": 371,
   "metadata": {},
   "outputs": [],
   "source": [
    "# Extract 2019 from 'image' column\n",
    "churn = churn[churn['image'] >= 201901]"
   ]
  },
  {
   "cell_type": "code",
   "execution_count": 372,
   "metadata": {},
   "outputs": [
    {
     "data": {
      "text/plain": [
       "247719    201901\n",
       "247720    201901\n",
       "247721    201901\n",
       "247722    201901\n",
       "247723    201901\n",
       "           ...  \n",
       "510120    201912\n",
       "510121    201912\n",
       "510122    201912\n",
       "510123    201912\n",
       "510124    201912\n",
       "Name: image, Length: 262406, dtype: object"
      ]
     },
     "execution_count": 372,
     "metadata": {},
     "output_type": "execute_result"
    }
   ],
   "source": [
    "# change the extract year and month out of the 'image' column\n",
    "churn['image'] = churn['image'].astype('str')\n",
    "churn['image']"
   ]
  },
  {
   "cell_type": "code",
   "execution_count": 373,
   "metadata": {},
   "outputs": [],
   "source": [
    "def date(value):\n",
    "    if value.endswith('01'):\n",
    "        return '2019-01'\n",
    "    if value.endswith('02'):\n",
    "        return '2019-02'\n",
    "    if value.endswith('03'):\n",
    "        return '2019-03'\n",
    "    if value.endswith('04'):\n",
    "        return '2019-04'\n",
    "    if value.endswith('05'):\n",
    "        return '2019-05'\n",
    "    if value.endswith('06'):\n",
    "        return '2019-06'\n",
    "    if value.endswith('07'):\n",
    "        return '2019-07'\n",
    "    if value.endswith('08'):\n",
    "        return '2019-08'\n",
    "    if value.endswith('09'):\n",
    "        return '2019-09'\n",
    "    if value.endswith('10'):\n",
    "        return '2019-10'\n",
    "    if value.endswith('11'):\n",
    "        return '2019-11'\n",
    "    if value.endswith('12'):\n",
    "        return '2019-12'\n",
    "    "
   ]
  },
  {
   "cell_type": "code",
   "execution_count": 374,
   "metadata": {},
   "outputs": [
    {
     "data": {
      "text/html": [
       "<div>\n",
       "<style scoped>\n",
       "    .dataframe tbody tr th:only-of-type {\n",
       "        vertical-align: middle;\n",
       "    }\n",
       "\n",
       "    .dataframe tbody tr th {\n",
       "        vertical-align: top;\n",
       "    }\n",
       "\n",
       "    .dataframe thead th {\n",
       "        text-align: right;\n",
       "    }\n",
       "</style>\n",
       "<table border=\"1\" class=\"dataframe\">\n",
       "  <thead>\n",
       "    <tr style=\"text-align: right;\">\n",
       "      <th></th>\n",
       "      <th>image</th>\n",
       "      <th>newacct_no</th>\n",
       "      <th>line_stat</th>\n",
       "      <th>bill_cycl</th>\n",
       "      <th>serv_type</th>\n",
       "      <th>serv_code</th>\n",
       "      <th>tenure</th>\n",
       "      <th>effc_strt_date</th>\n",
       "      <th>effc_end_date</th>\n",
       "      <th>contract_month</th>\n",
       "      <th>...</th>\n",
       "      <th>secured_revenue</th>\n",
       "      <th>bandwidth</th>\n",
       "      <th>term_reas_code</th>\n",
       "      <th>term_reas_desc</th>\n",
       "      <th>complaint_cnt</th>\n",
       "      <th>with_phone_service</th>\n",
       "      <th>churn</th>\n",
       "      <th>current_mth_churn</th>\n",
       "      <th>Unnamed: 19</th>\n",
       "      <th>year_month</th>\n",
       "    </tr>\n",
       "  </thead>\n",
       "  <tbody>\n",
       "    <tr>\n",
       "      <td>247719</td>\n",
       "      <td>201901</td>\n",
       "      <td>70068143.001.000000062</td>\n",
       "      <td>AC</td>\n",
       "      <td>1</td>\n",
       "      <td>BBS</td>\n",
       "      <td>PF500DUN</td>\n",
       "      <td>214</td>\n",
       "      <td>06.03.2018 00:00:00</td>\n",
       "      <td>05.03.2021 00:00:00</td>\n",
       "      <td>36.0</td>\n",
       "      <td>...</td>\n",
       "      <td>248.0</td>\n",
       "      <td>500M (FTTO)</td>\n",
       "      <td>NaN</td>\n",
       "      <td>NaN</td>\n",
       "      <td>0</td>\n",
       "      <td>N</td>\n",
       "      <td>N</td>\n",
       "      <td>N</td>\n",
       "      <td>NaN</td>\n",
       "      <td>2019-01</td>\n",
       "    </tr>\n",
       "    <tr>\n",
       "      <td>247720</td>\n",
       "      <td>201901</td>\n",
       "      <td>70068143.003.000072630</td>\n",
       "      <td>AC</td>\n",
       "      <td>1</td>\n",
       "      <td>BBS</td>\n",
       "      <td>VS030F6R</td>\n",
       "      <td>47</td>\n",
       "      <td>01.03.2019 00:00:00</td>\n",
       "      <td>28.02.2021 00:00:00</td>\n",
       "      <td>24.0</td>\n",
       "      <td>...</td>\n",
       "      <td>1572.0</td>\n",
       "      <td>30M</td>\n",
       "      <td>NaN</td>\n",
       "      <td>NaN</td>\n",
       "      <td>0</td>\n",
       "      <td>N</td>\n",
       "      <td>N</td>\n",
       "      <td>N</td>\n",
       "      <td>NaN</td>\n",
       "      <td>2019-01</td>\n",
       "    </tr>\n",
       "    <tr>\n",
       "      <td>247721</td>\n",
       "      <td>201901</td>\n",
       "      <td>70068143.004.000089578</td>\n",
       "      <td>AC</td>\n",
       "      <td>1</td>\n",
       "      <td>BBS</td>\n",
       "      <td>PF1000FSH</td>\n",
       "      <td>7</td>\n",
       "      <td>09.07.2018 00:00:00</td>\n",
       "      <td>08.07.2020 00:00:00</td>\n",
       "      <td>24.0</td>\n",
       "      <td>...</td>\n",
       "      <td>488.0</td>\n",
       "      <td>1000M (FTTO)</td>\n",
       "      <td>NaN</td>\n",
       "      <td>NaN</td>\n",
       "      <td>0</td>\n",
       "      <td>N</td>\n",
       "      <td>N</td>\n",
       "      <td>N</td>\n",
       "      <td>NaN</td>\n",
       "      <td>2019-01</td>\n",
       "    </tr>\n",
       "  </tbody>\n",
       "</table>\n",
       "<p>3 rows × 21 columns</p>\n",
       "</div>"
      ],
      "text/plain": [
       "         image              newacct_no line_stat  bill_cycl serv_type  \\\n",
       "247719  201901  70068143.001.000000062        AC          1       BBS   \n",
       "247720  201901  70068143.003.000072630        AC          1       BBS   \n",
       "247721  201901  70068143.004.000089578        AC          1       BBS   \n",
       "\n",
       "        serv_code  tenure       effc_strt_date        effc_end_date  \\\n",
       "247719   PF500DUN     214  06.03.2018 00:00:00  05.03.2021 00:00:00   \n",
       "247720   VS030F6R      47  01.03.2019 00:00:00  28.02.2021 00:00:00   \n",
       "247721  PF1000FSH       7  09.07.2018 00:00:00  08.07.2020 00:00:00   \n",
       "\n",
       "        contract_month  ...  secured_revenue     bandwidth term_reas_code  \\\n",
       "247719            36.0  ...            248.0   500M (FTTO)            NaN   \n",
       "247720            24.0  ...           1572.0           30M            NaN   \n",
       "247721            24.0  ...            488.0  1000M (FTTO)            NaN   \n",
       "\n",
       "       term_reas_desc complaint_cnt with_phone_service churn  \\\n",
       "247719            NaN             0                  N     N   \n",
       "247720            NaN             0                  N     N   \n",
       "247721            NaN             0                  N     N   \n",
       "\n",
       "       current_mth_churn Unnamed: 19 year_month  \n",
       "247719                 N         NaN    2019-01  \n",
       "247720                 N         NaN    2019-01  \n",
       "247721                 N         NaN    2019-01  \n",
       "\n",
       "[3 rows x 21 columns]"
      ]
     },
     "execution_count": 374,
     "metadata": {},
     "output_type": "execute_result"
    }
   ],
   "source": [
    "churn['year_month'] = churn['image'].apply(date)\n",
    "churn.head(3)"
   ]
  },
  {
   "cell_type": "code",
   "execution_count": 375,
   "metadata": {},
   "outputs": [
    {
     "data": {
      "text/plain": [
       "247719   2019-01-01\n",
       "247720   2019-01-01\n",
       "247721   2019-01-01\n",
       "247722   2019-01-01\n",
       "247723   2019-01-01\n",
       "            ...    \n",
       "510120   2019-12-01\n",
       "510121   2019-12-01\n",
       "510122   2019-12-01\n",
       "510123   2019-12-01\n",
       "510124   2019-12-01\n",
       "Name: year_month, Length: 262406, dtype: datetime64[ns]"
      ]
     },
     "execution_count": 375,
     "metadata": {},
     "output_type": "execute_result"
    }
   ],
   "source": [
    "# Convert year_date column to datetime and to period\n",
    "churn['year_month'] = pd.to_datetime(churn['year_month'],yearfirst=False)\n",
    "churn['year_month']"
   ]
  },
  {
   "cell_type": "code",
   "execution_count": 376,
   "metadata": {},
   "outputs": [
    {
     "data": {
      "text/plain": [
       "year_month  churn\n",
       "2019-01-01  N        18635\n",
       "            Y         2876\n",
       "2019-02-01  N        18863\n",
       "            Y         2709\n",
       "2019-03-01  N        19156\n",
       "            Y         2518\n",
       "2019-04-01  N        19419\n",
       "            Y         2270\n",
       "2019-05-01  N        19750\n",
       "            Y         2043\n",
       "2019-06-01  N        20080\n",
       "            Y         1777\n",
       "2019-07-01  N        20405\n",
       "            Y         1570\n",
       "2019-08-01  N        20682\n",
       "            Y         1297\n",
       "2019-09-01  N        21005\n",
       "            Y         1059\n",
       "2019-10-01  N        21279\n",
       "            Y          803\n",
       "2019-11-01  N        21575\n",
       "            Y          517\n",
       "2019-12-01  N        21873\n",
       "            Y          245\n",
       "Name: churn, dtype: int64"
      ]
     },
     "execution_count": 376,
     "metadata": {},
     "output_type": "execute_result"
    }
   ],
   "source": [
    "# Lets groupby year_month\n",
    "date = churn.groupby(['year_month', 'churn'])\n",
    "date['churn'].count()"
   ]
  },
  {
   "cell_type": "markdown",
   "metadata": {},
   "source": [
    "### The month of January 2019 experienced the most Defectors numbering  2876, with customer churn declining overtime."
   ]
  },
  {
   "cell_type": "code",
   "execution_count": 377,
   "metadata": {},
   "outputs": [
    {
     "data": {
      "text/plain": [
       "bandwidth     churn\n",
       "1000M (FTTO)  N         18379\n",
       "              Y           727\n",
       "100M          N        125929\n",
       "              Y          9750\n",
       "100M (FTTO)   N         45684\n",
       "              Y          3311\n",
       "10M           N         22931\n",
       "              Y          2993\n",
       "300M (FTTO)   N          6547\n",
       "              Y           306\n",
       "30M           N         18876\n",
       "              Y          2191\n",
       "500M (FTTO)   N          2363\n",
       "              Y           186\n",
       "50M           N          1003\n",
       "              Y            83\n",
       "BELOW 10M     N          1010\n",
       "              Y           137\n",
       "Name: churn, dtype: int64"
      ]
     },
     "execution_count": 377,
     "metadata": {},
     "output_type": "execute_result"
    }
   ],
   "source": [
    "# Lets groupby bandwith\n",
    "bandw = churn.groupby(['bandwidth', 'churn'])\n",
    "bandw['churn'].count()"
   ]
  },
  {
   "cell_type": "markdown",
   "metadata": {},
   "source": [
    "### The 100M Bandwidth has the most custormer churn rate of  9750 customers leaving."
   ]
  },
  {
   "cell_type": "code",
   "execution_count": 378,
   "metadata": {},
   "outputs": [],
   "source": [
    "# Export the modified data as csv\n",
    "churn.to_csv('modified_churn.csv', encoding='utf-8', index=False)"
   ]
  },
  {
   "cell_type": "code",
   "execution_count": null,
   "metadata": {},
   "outputs": [],
   "source": []
  },
  {
   "cell_type": "code",
   "execution_count": null,
   "metadata": {},
   "outputs": [],
   "source": []
  }
 ],
 "metadata": {
  "kernelspec": {
   "display_name": "Python 3",
   "language": "python",
   "name": "python3"
  },
  "language_info": {
   "codemirror_mode": {
    "name": "ipython",
    "version": 3
   },
   "file_extension": ".py",
   "mimetype": "text/x-python",
   "name": "python",
   "nbconvert_exporter": "python",
   "pygments_lexer": "ipython3",
   "version": "3.7.4"
  }
 },
 "nbformat": 4,
 "nbformat_minor": 2
}
