{
 "cells": [
  {
   "cell_type": "markdown",
   "metadata": {},
   "source": [
    "## Data Analysis Question: Which Region of Africa has been Worst Hit by Covid-19?"
   ]
  },
  {
   "cell_type": "markdown",
   "metadata": {},
   "source": [
    "Source: EU Open Data Portal(data.europa.eu)\n",
    "\n",
    "Data Analyst: Alex Idachaba"
   ]
  },
  {
   "cell_type": "code",
   "execution_count": 1,
   "metadata": {},
   "outputs": [],
   "source": [
    "import pandas as pd\n",
    "import numpy as np\n",
    "import matplotlib.pyplot as plt\n",
    "import seaborn as sns\n",
    "from scipy import stats"
   ]
  },
  {
   "cell_type": "code",
   "execution_count": 2,
   "metadata": {},
   "outputs": [
    {
     "data": {
      "text/html": [
       "<div>\n",
       "<style scoped>\n",
       "    .dataframe tbody tr th:only-of-type {\n",
       "        vertical-align: middle;\n",
       "    }\n",
       "\n",
       "    .dataframe tbody tr th {\n",
       "        vertical-align: top;\n",
       "    }\n",
       "\n",
       "    .dataframe thead th {\n",
       "        text-align: right;\n",
       "    }\n",
       "</style>\n",
       "<table border=\"1\" class=\"dataframe\">\n",
       "  <thead>\n",
       "    <tr style=\"text-align: right;\">\n",
       "      <th></th>\n",
       "      <th>dateRep</th>\n",
       "      <th>day</th>\n",
       "      <th>month</th>\n",
       "      <th>year</th>\n",
       "      <th>cases</th>\n",
       "      <th>deaths</th>\n",
       "      <th>countriesAndTerritories</th>\n",
       "      <th>geoId</th>\n",
       "      <th>countryterritoryCode</th>\n",
       "      <th>popData2018</th>\n",
       "      <th>continentExp</th>\n",
       "    </tr>\n",
       "  </thead>\n",
       "  <tbody>\n",
       "    <tr>\n",
       "      <td>0</td>\n",
       "      <td>01/06/2020</td>\n",
       "      <td>1</td>\n",
       "      <td>6</td>\n",
       "      <td>2020</td>\n",
       "      <td>680</td>\n",
       "      <td>8</td>\n",
       "      <td>Afghanistan</td>\n",
       "      <td>AF</td>\n",
       "      <td>AFG</td>\n",
       "      <td>37172386.0</td>\n",
       "      <td>Asia</td>\n",
       "    </tr>\n",
       "    <tr>\n",
       "      <td>1</td>\n",
       "      <td>31/05/2020</td>\n",
       "      <td>31</td>\n",
       "      <td>5</td>\n",
       "      <td>2020</td>\n",
       "      <td>866</td>\n",
       "      <td>3</td>\n",
       "      <td>Afghanistan</td>\n",
       "      <td>AF</td>\n",
       "      <td>AFG</td>\n",
       "      <td>37172386.0</td>\n",
       "      <td>Asia</td>\n",
       "    </tr>\n",
       "    <tr>\n",
       "      <td>2</td>\n",
       "      <td>30/05/2020</td>\n",
       "      <td>30</td>\n",
       "      <td>5</td>\n",
       "      <td>2020</td>\n",
       "      <td>623</td>\n",
       "      <td>11</td>\n",
       "      <td>Afghanistan</td>\n",
       "      <td>AF</td>\n",
       "      <td>AFG</td>\n",
       "      <td>37172386.0</td>\n",
       "      <td>Asia</td>\n",
       "    </tr>\n",
       "  </tbody>\n",
       "</table>\n",
       "</div>"
      ],
      "text/plain": [
       "      dateRep  day  month  year  cases  deaths countriesAndTerritories geoId  \\\n",
       "0  01/06/2020    1      6  2020    680       8             Afghanistan    AF   \n",
       "1  31/05/2020   31      5  2020    866       3             Afghanistan    AF   \n",
       "2  30/05/2020   30      5  2020    623      11             Afghanistan    AF   \n",
       "\n",
       "  countryterritoryCode  popData2018 continentExp  \n",
       "0                  AFG   37172386.0         Asia  \n",
       "1                  AFG   37172386.0         Asia  \n",
       "2                  AFG   37172386.0         Asia  "
      ]
     },
     "execution_count": 2,
     "metadata": {},
     "output_type": "execute_result"
    }
   ],
   "source": [
    "# Import dataset\n",
    "region = pd.read_csv('COVID_19.csv')\n",
    "region.head(3)"
   ]
  },
  {
   "cell_type": "code",
   "execution_count": 3,
   "metadata": {},
   "outputs": [
    {
     "data": {
      "text/plain": [
       "False"
      ]
     },
     "execution_count": 3,
     "metadata": {},
     "output_type": "execute_result"
    }
   ],
   "source": [
    "# Check for duplicate record\n",
    "region.duplicated().any()"
   ]
  },
  {
   "cell_type": "code",
   "execution_count": 4,
   "metadata": {},
   "outputs": [
    {
     "data": {
      "text/plain": [
       "dateRep                    False\n",
       "day                        False\n",
       "month                      False\n",
       "year                       False\n",
       "cases                      False\n",
       "deaths                     False\n",
       "countriesAndTerritories    False\n",
       "geoId                       True\n",
       "countryterritoryCode        True\n",
       "popData2018                 True\n",
       "continentExp               False\n",
       "dtype: bool"
      ]
     },
     "execution_count": 4,
     "metadata": {},
     "output_type": "execute_result"
    }
   ],
   "source": [
    "# Check for Null values\n",
    "region.isna().any()"
   ]
  },
  {
   "cell_type": "code",
   "execution_count": 5,
   "metadata": {},
   "outputs": [],
   "source": [
    "# Lets rename some columns\n",
    "region.rename(columns={'countriesAndTerritories':'countries',\n",
    "                       'continentExp':'continents'},inplace=True)"
   ]
  },
  {
   "cell_type": "code",
   "execution_count": 6,
   "metadata": {},
   "outputs": [
    {
     "data": {
      "text/html": [
       "<div>\n",
       "<style scoped>\n",
       "    .dataframe tbody tr th:only-of-type {\n",
       "        vertical-align: middle;\n",
       "    }\n",
       "\n",
       "    .dataframe tbody tr th {\n",
       "        vertical-align: top;\n",
       "    }\n",
       "\n",
       "    .dataframe thead th {\n",
       "        text-align: right;\n",
       "    }\n",
       "</style>\n",
       "<table border=\"1\" class=\"dataframe\">\n",
       "  <thead>\n",
       "    <tr style=\"text-align: right;\">\n",
       "      <th></th>\n",
       "      <th>dateRep</th>\n",
       "      <th>day</th>\n",
       "      <th>month</th>\n",
       "      <th>year</th>\n",
       "      <th>cases</th>\n",
       "      <th>deaths</th>\n",
       "      <th>countries</th>\n",
       "      <th>geoId</th>\n",
       "      <th>countryterritoryCode</th>\n",
       "      <th>popData2018</th>\n",
       "      <th>continents</th>\n",
       "    </tr>\n",
       "  </thead>\n",
       "  <tbody>\n",
       "    <tr>\n",
       "      <td>0</td>\n",
       "      <td>01/06/2020</td>\n",
       "      <td>1</td>\n",
       "      <td>6</td>\n",
       "      <td>2020</td>\n",
       "      <td>680</td>\n",
       "      <td>8</td>\n",
       "      <td>Afghanistan</td>\n",
       "      <td>AF</td>\n",
       "      <td>AFG</td>\n",
       "      <td>37172386.0</td>\n",
       "      <td>Asia</td>\n",
       "    </tr>\n",
       "    <tr>\n",
       "      <td>1</td>\n",
       "      <td>31/05/2020</td>\n",
       "      <td>31</td>\n",
       "      <td>5</td>\n",
       "      <td>2020</td>\n",
       "      <td>866</td>\n",
       "      <td>3</td>\n",
       "      <td>Afghanistan</td>\n",
       "      <td>AF</td>\n",
       "      <td>AFG</td>\n",
       "      <td>37172386.0</td>\n",
       "      <td>Asia</td>\n",
       "    </tr>\n",
       "    <tr>\n",
       "      <td>2</td>\n",
       "      <td>30/05/2020</td>\n",
       "      <td>30</td>\n",
       "      <td>5</td>\n",
       "      <td>2020</td>\n",
       "      <td>623</td>\n",
       "      <td>11</td>\n",
       "      <td>Afghanistan</td>\n",
       "      <td>AF</td>\n",
       "      <td>AFG</td>\n",
       "      <td>37172386.0</td>\n",
       "      <td>Asia</td>\n",
       "    </tr>\n",
       "  </tbody>\n",
       "</table>\n",
       "</div>"
      ],
      "text/plain": [
       "      dateRep  day  month  year  cases  deaths    countries geoId  \\\n",
       "0  01/06/2020    1      6  2020    680       8  Afghanistan    AF   \n",
       "1  31/05/2020   31      5  2020    866       3  Afghanistan    AF   \n",
       "2  30/05/2020   30      5  2020    623      11  Afghanistan    AF   \n",
       "\n",
       "  countryterritoryCode  popData2018 continents  \n",
       "0                  AFG   37172386.0       Asia  \n",
       "1                  AFG   37172386.0       Asia  \n",
       "2                  AFG   37172386.0       Asia  "
      ]
     },
     "execution_count": 6,
     "metadata": {},
     "output_type": "execute_result"
    }
   ],
   "source": [
    "region.head(3)"
   ]
  },
  {
   "cell_type": "code",
   "execution_count": 7,
   "metadata": {},
   "outputs": [],
   "source": [
    "# Get all the African countries\n",
    "continent = region['continents'] == 'Africa'\n",
    "africa = region[continent]"
   ]
  },
  {
   "cell_type": "code",
   "execution_count": 8,
   "metadata": {},
   "outputs": [
    {
     "data": {
      "text/plain": [
       "array(['Algeria', 'Angola', 'Benin', 'Botswana', 'Burkina_Faso',\n",
       "       'Burundi', 'Cameroon', 'Cape_Verde', 'Central_African_Republic',\n",
       "       'Chad', 'Comoros', 'Congo', 'Cote_dIvoire',\n",
       "       'Democratic_Republic_of_the_Congo', 'Djibouti', 'Egypt',\n",
       "       'Equatorial_Guinea', 'Eritrea', 'Eswatini', 'Ethiopia', 'Gabon',\n",
       "       'Gambia', 'Ghana', 'Guinea', 'Guinea_Bissau', 'Kenya', 'Lesotho',\n",
       "       'Liberia', 'Libya', 'Madagascar', 'Malawi', 'Mali', 'Mauritania',\n",
       "       'Mauritius', 'Morocco', 'Mozambique', 'Namibia', 'Niger',\n",
       "       'Nigeria', 'Rwanda', 'Sao_Tome_and_Principe', 'Senegal',\n",
       "       'Seychelles', 'Sierra_Leone', 'Somalia', 'South_Africa',\n",
       "       'South_Sudan', 'Sudan', 'Togo', 'Tunisia', 'Uganda',\n",
       "       'United_Republic_of_Tanzania', 'Western_Sahara', 'Zambia',\n",
       "       'Zimbabwe'], dtype=object)"
      ]
     },
     "execution_count": 8,
     "metadata": {},
     "output_type": "execute_result"
    }
   ],
   "source": [
    "# Look at the list of all the African countries\n",
    "africa['countries'].unique()"
   ]
  },
  {
   "cell_type": "code",
   "execution_count": 9,
   "metadata": {},
   "outputs": [],
   "source": [
    "# Lets divide the countries into sub-region\n",
    "north_africa = ['Algeria', 'Egypt','Libya', 'Morocco', 'Sudan', 'Tunisia', \n",
    "                'Cape_Verde', 'Western_Sahara']\n",
    "east_africa = ['Burundi', 'Comoros', 'Djibouti', 'Eritrea',\n",
    "               'Ethiopia', 'Kenya', 'Madagascar', 'Malawi', 'Mauritius', 'Mozambique',\n",
    "              'Rwanda', 'Seychelles', 'Somalia', 'South_Sudan', 'United_Republic_of_Tanzania',\n",
    "              'Uganda', 'Zambia', 'Zimbabwe']\n",
    "central_africa = ['Angola', 'Cameroon', 'Central_African_Republic', 'Chad',\n",
    "                  'Democratic_Republic_of_the_Congo', 'Congo', 'Equatorial_Guinea',\n",
    "                 'Gabon', 'Sao_Tome_and_Principe']\n",
    "west_africa = ['Benin', 'Burkina_Faso', 'Cote_dIvoire', 'Gambia', 'Ghana', 'Guinea',\n",
    "              'Guinea_Bissau', 'Liberia', 'Mali', 'Mauritania', 'Niger', 'Nigeria',\n",
    "              'Senegal', 'Sierra_Leone', 'Togo']\n",
    "south_africa = ['Botswana', 'Lesotho', 'Namibia', 'South_Africa', 'Eswatini']"
   ]
  },
  {
   "cell_type": "code",
   "execution_count": 10,
   "metadata": {},
   "outputs": [],
   "source": [
    "# Write a function to group countries into region\n",
    "def afri_region(region):\n",
    "    if region in north_africa:\n",
    "        return 'north'\n",
    "    if region in east_africa:\n",
    "        return 'east'\n",
    "    if region in central_africa:\n",
    "        return 'central'\n",
    "    if region in west_africa:\n",
    "        return 'west'\n",
    "    if region in south_africa:\n",
    "        return 'south'\n"
   ]
  },
  {
   "cell_type": "code",
   "execution_count": 11,
   "metadata": {},
   "outputs": [
    {
     "name": "stderr",
     "output_type": "stream",
     "text": [
      "C:\\Users\\ALEX\\Anaconda3\\lib\\site-packages\\ipykernel_launcher.py:2: SettingWithCopyWarning: \n",
      "A value is trying to be set on a copy of a slice from a DataFrame.\n",
      "Try using .loc[row_indexer,col_indexer] = value instead\n",
      "\n",
      "See the caveats in the documentation: http://pandas.pydata.org/pandas-docs/stable/user_guide/indexing.html#returning-a-view-versus-a-copy\n",
      "  \n"
     ]
    }
   ],
   "source": [
    "# Create new column for region\n",
    "africa['regions'] = africa['countries'].apply(afri_region)"
   ]
  },
  {
   "cell_type": "code",
   "execution_count": 12,
   "metadata": {},
   "outputs": [],
   "source": [
    "region_grp = africa.groupby('regions')"
   ]
  },
  {
   "cell_type": "code",
   "execution_count": 13,
   "metadata": {},
   "outputs": [
    {
     "data": {
      "text/plain": [
       "regions\n",
       "central    15883\n",
       "east       13893\n",
       "north      48903\n",
       "south      33032\n",
       "west       35285\n",
       "Name: cases, dtype: int64"
      ]
     },
     "execution_count": 13,
     "metadata": {},
     "output_type": "execute_result"
    }
   ],
   "source": [
    "# Count cases in each regions\n",
    "region_grp.sum()['cases']"
   ]
  },
  {
   "cell_type": "code",
   "execution_count": 14,
   "metadata": {},
   "outputs": [
    {
     "data": {
      "text/plain": [
       "146996"
      ]
     },
     "execution_count": 14,
     "metadata": {},
     "output_type": "execute_result"
    }
   ],
   "source": [
    "region_grp.sum()['cases'].sum()"
   ]
  },
  {
   "cell_type": "code",
   "execution_count": 15,
   "metadata": {},
   "outputs": [],
   "source": [
    "region = ['central_africa', 'east_africa', 'north_africa', 'south_africa', 'west_africa']"
   ]
  },
  {
   "cell_type": "code",
   "execution_count": 16,
   "metadata": {},
   "outputs": [
    {
     "data": {
      "image/png": "[encoded data removed]",
      "text/plain": [
       "<Figure size 864x432 with 1 Axes>"
      ]
     },
     "metadata": {
      "needs_background": "light"
     },
     "output_type": "display_data"
    }
   ],
   "source": [
    "# Plot the bar chart\n",
    "plt.figure(figsize=(12,6))\n",
    "plt.title('Covid-19 Cases in African Regions')\n",
    "y = region_grp.sum()['cases']\n",
    "plt.bar(region, y)\n",
    "plt.xlabel('Regions')\n",
    "plt.ylabel('Cases')\n",
    "plt.show()"
   ]
  },
  {
   "cell_type": "code",
   "execution_count": 17,
   "metadata": {},
   "outputs": [],
   "source": [
    "# Export data with regions\n",
    "africa.to_csv('africa_covid_data.csv', encoding='utf-8',index=False)"
   ]
  },
  {
   "cell_type": "code",
   "execution_count": null,
   "metadata": {},
   "outputs": [],
   "source": []
  }
 ],
 "metadata": {
  "kernelspec": {
   "display_name": "Python 3",
   "language": "python",
   "name": "python3"
  },
  "language_info": {
   "codemirror_mode": {
    "name": "ipython",
    "version": 3
   },
   "file_extension": ".py",
   "mimetype": "text/x-python",
   "name": "python",
   "nbconvert_exporter": "python",
   "pygments_lexer": "ipython3",
   "version": "3.7.4"
  }
 },
 "nbformat": 4,
 "nbformat_minor": 2
}
